{
 "cells": [
  {
   "cell_type": "markdown",
   "id": "5a121b80",
   "metadata": {},
   "source": [
    "## El Nino-Southern Oscillation (ENSO) impacts on FOREX trading "
   ]
  },
  {
   "cell_type": "markdown",
   "id": "cf41c774",
   "metadata": {},
   "source": [
    "ENSO est l'un des phénomènes climatiques les plus importants sur Terre en raison de sa capacité à modifier la circulation atmosphérique mondiale, qui à son tour influence la température et les précipitations à travers le monde. Il a trois états/phases, El Niño, La Niña, Neutre."
   ]
  },
  {
   "cell_type": "markdown",
   "id": "ba875444",
   "metadata": {},
   "source": [
    "El Niño : Un réchauffement de la surface de l'océan, ou des températures de surface de la mer (SST) supérieures à la moyenne, dans le centre et l'est de l'océan Pacifique tropical\n",
    "\n",
    "La Niña : Un refroidissement de la surface de l'océan, ou des températures de surface de la mer (SST) inférieures à la moyenne, dans le centre et l'est de l'océan Pacifique tropical\n",
    "\n",
    "Neutre : SST moyenne du Pacifique tropical"
   ]
  },
  {
   "cell_type": "markdown",
   "id": "e9660799",
   "metadata": {},
   "source": [
    "### Problème"
   ]
  },
  {
   "cell_type": "markdown",
   "id": "eb1524eb",
   "metadata": {},
   "source": [
    "Nous utilisons ici les données ENSO pour étudier l'effet des fortes températures sur le  volume FOREX. Par manque de données de températures, nous utilisons les données ENSO. \n",
    "\n",
    "Nous l'utilisons car C'est l'un des principaux moteurs de la variabilité climatique interannuelle de la Terre et peut provoquer un large éventail d'anomalies climatiques. Les impacts comprennent les catastrophes naturelles (inondations, sécheresses), les rendements agricoles faibles et élevés, la fluctuation des prix, la demande d'énergie, la disponibilité des ressources en eau, les mouvements d'animaux et bien d'autres."
   ]
  },
  {
   "cell_type": "markdown",
   "id": "b49536e4",
   "metadata": {},
   "source": [
    "### Indicateurs ENSO "
   ]
  },
  {
   "cell_type": "markdown",
   "id": "2592b3f3",
   "metadata": {},
   "source": [
    "Air Pressured Indexes - SOI\n",
    "\n",
    "SOI > 0.5 → Warm Phase → El Niño\n",
    "\n",
    "SOI < 0.5 → Cool Phase → La Niña\n",
    "\n",
    "Sea Surface Temperature Indexes - NINO 1+2, NINO 3, NINO 3.4, NINO 4, ONI (NOAA official ENSO indicator)\n",
    "\n",
    "Outgoing Longwave Radiation Indexes - OLR\n",
    "\n",
    "Wind Indexes"
   ]
  },
  {
   "cell_type": "markdown",
   "id": "5f42fdd8",
   "metadata": {},
   "source": [
    "### Méthodes "
   ]
  },
  {
   "cell_type": "markdown",
   "id": "217c98d4",
   "metadata": {},
   "source": [
    "Financial Econometrics method\n",
    "\n",
    "Binning method\n",
    "\n",
    "Event study– to what extent does market activity decrease on days with El Nino?"
   ]
  },
  {
   "cell_type": "markdown",
   "id": "65123e39",
   "metadata": {},
   "source": [
    "### Données "
   ]
  },
  {
   "cell_type": "markdown",
   "id": "3d61c3d6",
   "metadata": {},
   "source": [
    "El Nino-Southern Oscillation (ENSO) \n",
    "\n",
    "FOREX\n",
    "(Le Forex (en anglais Foreign exchange market ou FX), ou marché des changes, est le marché sur lequel les devises dites convertibles (paire de devises) sont échangées l’une contre l’autre à des taux de change qui varient en permanence.)"
   ]
  },
  {
   "cell_type": "markdown",
   "id": "6a2f67f5",
   "metadata": {},
   "source": [
    "## PARTIE 1  : PACKAGES & REPERTOIRE  "
   ]
  },
  {
   "cell_type": "markdown",
   "id": "4fdc97af",
   "metadata": {},
   "source": [
    "### 1 - Import des Libraries "
   ]
  },
  {
   "cell_type": "code",
   "execution_count": 1,
   "id": "2b8de4f8",
   "metadata": {},
   "outputs": [],
   "source": [
    "import pandas as pd                  # to create a DataFrame tableau \n",
    "import pandas_datareader.data as web # package that allows us to create a pandas DataFrame object by using various data sources from the internet.\n",
    "import numpy as np                   # calcul scientifique \n",
    "import datetime as dt                # traiter les dates \n",
    "import matplotlib.pyplot as plt      # ajouter des éléments tels que des lignes, des images ou des textes aux axes d'un graphique\n",
    "from matplotlib import style         # tracer et visualiser des données sous formes de graphiques.\n",
    "style.use ('ggplot')                 # tracer des fonctions \n",
    "import os"
   ]
  },
  {
   "cell_type": "code",
   "execution_count": 2,
   "id": "b92631f2",
   "metadata": {},
   "outputs": [],
   "source": [
    "pd.options.mode.chained_assignment = None  # default='warn' # pour éviter les warnings\n",
    "\n",
    "# stationarité \n",
    "from pandas import read_csv\n",
    "from matplotlib import pyplot\n",
    "%matplotlib inline\n",
    "\n",
    "import statsmodels.api as sm\n",
    "from statsmodels.graphics.tsaplots import plot_acf\n",
    "from statsmodels.graphics.tsaplots import plot_pacf\n",
    "import yfinance as yf\n",
    "from pandas import Series\n",
    "import seaborn as sns\n",
    "import plotly.graph_objects as go\n",
    "from pylab import rcParams  # to  customize Matplotlib\n",
    "\n",
    "from statsmodels.tsa.stattools import adfuller  # pour le test de dickey Fuller "
   ]
  },
  {
   "cell_type": "markdown",
   "id": "5701a101",
   "metadata": {},
   "source": [
    "### 2 - Répertoire de travail"
   ]
  },
  {
   "cell_type": "code",
   "execution_count": 3,
   "id": "30c2b9d7",
   "metadata": {},
   "outputs": [
    {
     "data": {
      "text/plain": [
       "'C:\\\\Users\\\\dell\\\\Desktop\\\\Nouveau dossier\\\\MASTER 2021 2023\\\\M2IFM\\\\S2M2\\\\MEMOIRE'"
      ]
     },
     "execution_count": 3,
     "metadata": {},
     "output_type": "execute_result"
    }
   ],
   "source": [
    "# Connaître l'emplacement de base\n",
    "os.getcwd()"
   ]
  },
  {
   "cell_type": "code",
   "execution_count": 4,
   "id": "3ec6df61",
   "metadata": {},
   "outputs": [
    {
     "data": {
      "text/plain": [
       "'C:/Users/dell/Desktop/Nouveau dossier/MASTER 2021 2023/M2IFM/S2M2\\\\MEMOIRE/DATA/'"
      ]
     },
     "execution_count": 4,
     "metadata": {},
     "output_type": "execute_result"
    }
   ],
   "source": [
    "# path \n",
    "\n",
    "path=\"C:/Users/dell/Desktop/Nouveau dossier/MASTER 2021 2023/M2IFM/S2M2\\MEMOIRE/DATA/\"\n",
    "os.chdir(path)\n",
    "path"
   ]
  },
  {
   "cell_type": "code",
   "execution_count": 5,
   "id": "ade34fcf",
   "metadata": {},
   "outputs": [
    {
     "data": {
      "text/plain": [
       "['codeglobalwarming.R',\n",
       " 'dataextractreg_.xlsx',\n",
       " 'data_oni_forex.xlsx',\n",
       " 'livrable_B.xlsx',\n",
       " 'Models.xlsx',\n",
       " 'OLS_Regression.xlsx',\n",
       " 'studystats.xlsx',\n",
       " 'studystatSs.xlsx',\n",
       " 'volumedata.xlsx']"
      ]
     },
     "execution_count": 5,
     "metadata": {},
     "output_type": "execute_result"
    }
   ],
   "source": [
    "# Connaître le contenu de notre répertoire\n",
    "os.listdir()"
   ]
  },
  {
   "cell_type": "markdown",
   "id": "9c2aa3d2",
   "metadata": {},
   "source": [
    "## PARTIE 2 :  READ THE DATA"
   ]
  },
  {
   "cell_type": "code",
   "execution_count": 6,
   "id": "683db903",
   "metadata": {},
   "outputs": [
    {
     "data": {
      "text/html": [
       "<div>\n",
       "<style scoped>\n",
       "    .dataframe tbody tr th:only-of-type {\n",
       "        vertical-align: middle;\n",
       "    }\n",
       "\n",
       "    .dataframe tbody tr th {\n",
       "        vertical-align: top;\n",
       "    }\n",
       "\n",
       "    .dataframe thead th {\n",
       "        text-align: right;\n",
       "    }\n",
       "</style>\n",
       "<table border=\"1\" class=\"dataframe\">\n",
       "  <thead>\n",
       "    <tr style=\"text-align: right;\">\n",
       "      <th></th>\n",
       "      <th>DATE</th>\n",
       "      <th>Year</th>\n",
       "      <th>SEASON</th>\n",
       "      <th>ONI</th>\n",
       "      <th>Phase</th>\n",
       "      <th>dSST3.4</th>\n",
       "    </tr>\n",
       "  </thead>\n",
       "  <tbody>\n",
       "    <tr>\n",
       "      <th>0</th>\n",
       "      <td>2001-01-01</td>\n",
       "      <td>2001</td>\n",
       "      <td>djf</td>\n",
       "      <td>-0.680000</td>\n",
       "      <td>Cool Phase/La Nina</td>\n",
       "      <td>-0.63</td>\n",
       "    </tr>\n",
       "    <tr>\n",
       "      <th>1</th>\n",
       "      <td>2001-02-01</td>\n",
       "      <td>2001</td>\n",
       "      <td>jfm</td>\n",
       "      <td>-0.516667</td>\n",
       "      <td>Cool Phase/La Nina</td>\n",
       "      <td>-0.53</td>\n",
       "    </tr>\n",
       "    <tr>\n",
       "      <th>2</th>\n",
       "      <td>2001-03-01</td>\n",
       "      <td>2001</td>\n",
       "      <td>fma</td>\n",
       "      <td>-0.436667</td>\n",
       "      <td>Neutral Phase</td>\n",
       "      <td>-0.39</td>\n",
       "    </tr>\n",
       "    <tr>\n",
       "      <th>3</th>\n",
       "      <td>2001-04-01</td>\n",
       "      <td>2001</td>\n",
       "      <td>mam</td>\n",
       "      <td>-0.340000</td>\n",
       "      <td>Neutral Phase</td>\n",
       "      <td>-0.39</td>\n",
       "    </tr>\n",
       "    <tr>\n",
       "      <th>4</th>\n",
       "      <td>2001-05-01</td>\n",
       "      <td>2001</td>\n",
       "      <td>amj</td>\n",
       "      <td>-0.246667</td>\n",
       "      <td>Neutral Phase</td>\n",
       "      <td>-0.24</td>\n",
       "    </tr>\n",
       "  </tbody>\n",
       "</table>\n",
       "</div>"
      ],
      "text/plain": [
       "        DATE  Year SEASON       ONI               Phase  dSST3.4\n",
       "0 2001-01-01  2001    djf -0.680000  Cool Phase/La Nina    -0.63\n",
       "1 2001-02-01  2001    jfm -0.516667  Cool Phase/La Nina    -0.53\n",
       "2 2001-03-01  2001    fma -0.436667       Neutral Phase    -0.39\n",
       "3 2001-04-01  2001    mam -0.340000       Neutral Phase    -0.39\n",
       "4 2001-05-01  2001    amj -0.246667       Neutral Phase    -0.24"
      ]
     },
     "execution_count": 6,
     "metadata": {},
     "output_type": "execute_result"
    }
   ],
   "source": [
    "### -Données ONI \n",
    "oni = pd.read_excel(path+\"data_oni_forex.xlsx\",sheet_name=\"Tempyet\")\n",
    "oni = oni.iloc[:,[6,5,7,1,3,0]]\n",
    "oni.head(5)"
   ]
  },
  {
   "cell_type": "code",
   "execution_count": 7,
   "id": "752cc4e9",
   "metadata": {},
   "outputs": [
    {
     "data": {
      "text/html": [
       "<div>\n",
       "<style scoped>\n",
       "    .dataframe tbody tr th:only-of-type {\n",
       "        vertical-align: middle;\n",
       "    }\n",
       "\n",
       "    .dataframe tbody tr th {\n",
       "        vertical-align: top;\n",
       "    }\n",
       "\n",
       "    .dataframe thead th {\n",
       "        text-align: right;\n",
       "    }\n",
       "</style>\n",
       "<table border=\"1\" class=\"dataframe\">\n",
       "  <thead>\n",
       "    <tr style=\"text-align: right;\">\n",
       "      <th></th>\n",
       "      <th>DATE</th>\n",
       "      <th>SOUTH_AFRICA</th>\n",
       "      <th>AUSTRALIA</th>\n",
       "      <th>CHILE</th>\n",
       "      <th>EUROPA</th>\n",
       "    </tr>\n",
       "  </thead>\n",
       "  <tbody>\n",
       "    <tr>\n",
       "      <th>0</th>\n",
       "      <td>2001-01-01</td>\n",
       "      <td>8.946375</td>\n",
       "      <td>8.509363</td>\n",
       "      <td>9.697622</td>\n",
       "      <td>9.626301</td>\n",
       "    </tr>\n",
       "    <tr>\n",
       "      <th>1</th>\n",
       "      <td>2001-02-01</td>\n",
       "      <td>8.950403</td>\n",
       "      <td>8.462948</td>\n",
       "      <td>9.700991</td>\n",
       "      <td>9.659232</td>\n",
       "    </tr>\n",
       "    <tr>\n",
       "      <th>2</th>\n",
       "      <td>2001-03-01</td>\n",
       "      <td>8.946635</td>\n",
       "      <td>8.326033</td>\n",
       "      <td>9.704351</td>\n",
       "      <td>9.170677</td>\n",
       "    </tr>\n",
       "    <tr>\n",
       "      <th>3</th>\n",
       "      <td>2001-04-01</td>\n",
       "      <td>8.946245</td>\n",
       "      <td>8.639411</td>\n",
       "      <td>9.707169</td>\n",
       "      <td>8.807946</td>\n",
       "    </tr>\n",
       "    <tr>\n",
       "      <th>4</th>\n",
       "      <td>2001-05-01</td>\n",
       "      <td>8.938400</td>\n",
       "      <td>8.762959</td>\n",
       "      <td>9.709724</td>\n",
       "      <td>8.848259</td>\n",
       "    </tr>\n",
       "  </tbody>\n",
       "</table>\n",
       "</div>"
      ],
      "text/plain": [
       "        DATE  SOUTH_AFRICA  AUSTRALIA     CHILE    EUROPA\n",
       "0 2001-01-01      8.946375   8.509363  9.697622  9.626301\n",
       "1 2001-02-01      8.950403   8.462948  9.700991  9.659232\n",
       "2 2001-03-01      8.946635   8.326033  9.704351  9.170677\n",
       "3 2001-04-01      8.946245   8.639411  9.707169  8.807946\n",
       "4 2001-05-01      8.938400   8.762959  9.709724  8.848259"
      ]
     },
     "execution_count": 7,
     "metadata": {},
     "output_type": "execute_result"
    }
   ],
   "source": [
    "### - Données FOREX volumes par pays \n",
    "forex_volumes = pd.read_excel(path+\"volumedata.xlsx\",sheet_name=\"VOLUMESPAYS\")\n",
    "forex_volumes.head(5)"
   ]
  },
  {
   "cell_type": "code",
   "execution_count": 8,
   "id": "714e736c",
   "metadata": {
    "scrolled": true
   },
   "outputs": [
    {
     "data": {
      "text/html": [
       "<div>\n",
       "<style scoped>\n",
       "    .dataframe tbody tr th:only-of-type {\n",
       "        vertical-align: middle;\n",
       "    }\n",
       "\n",
       "    .dataframe tbody tr th {\n",
       "        vertical-align: top;\n",
       "    }\n",
       "\n",
       "    .dataframe thead th {\n",
       "        text-align: right;\n",
       "    }\n",
       "</style>\n",
       "<table border=\"1\" class=\"dataframe\">\n",
       "  <thead>\n",
       "    <tr style=\"text-align: right;\">\n",
       "      <th></th>\n",
       "      <th>DATE</th>\n",
       "      <th>ASK</th>\n",
       "      <th>BID</th>\n",
       "      <th>SPREAD</th>\n",
       "      <th>VOLUME</th>\n",
       "      <th>LnVOLUME</th>\n",
       "      <th>volatilityeu</th>\n",
       "      <th>Year</th>\n",
       "      <th>SEASON</th>\n",
       "      <th>ONI</th>\n",
       "      <th>Phase</th>\n",
       "      <th>dSST3.4</th>\n",
       "    </tr>\n",
       "  </thead>\n",
       "  <tbody>\n",
       "    <tr>\n",
       "      <th>0</th>\n",
       "      <td>2001-01-01</td>\n",
       "      <td>0.939697</td>\n",
       "      <td>0.940119</td>\n",
       "      <td>0.000423</td>\n",
       "      <td>15158.258065</td>\n",
       "      <td>9.626301</td>\n",
       "      <td>0.000000</td>\n",
       "      <td>2001</td>\n",
       "      <td>djf</td>\n",
       "      <td>-0.680000</td>\n",
       "      <td>Cool Phase/La Nina</td>\n",
       "      <td>-0.63</td>\n",
       "    </tr>\n",
       "    <tr>\n",
       "      <th>1</th>\n",
       "      <td>2001-02-01</td>\n",
       "      <td>0.921614</td>\n",
       "      <td>0.922032</td>\n",
       "      <td>0.000418</td>\n",
       "      <td>15665.750000</td>\n",
       "      <td>9.659232</td>\n",
       "      <td>0.001084</td>\n",
       "      <td>2001</td>\n",
       "      <td>jfm</td>\n",
       "      <td>-0.516667</td>\n",
       "      <td>Cool Phase/La Nina</td>\n",
       "      <td>-0.53</td>\n",
       "    </tr>\n",
       "    <tr>\n",
       "      <th>2</th>\n",
       "      <td>2001-03-01</td>\n",
       "      <td>0.909348</td>\n",
       "      <td>0.909732</td>\n",
       "      <td>0.000384</td>\n",
       "      <td>9611.129032</td>\n",
       "      <td>9.170677</td>\n",
       "      <td>0.238686</td>\n",
       "      <td>2001</td>\n",
       "      <td>fma</td>\n",
       "      <td>-0.436667</td>\n",
       "      <td>Neutral Phase</td>\n",
       "      <td>-0.39</td>\n",
       "    </tr>\n",
       "    <tr>\n",
       "      <th>3</th>\n",
       "      <td>2001-04-01</td>\n",
       "      <td>0.892967</td>\n",
       "      <td>0.893367</td>\n",
       "      <td>0.000400</td>\n",
       "      <td>6687.166667</td>\n",
       "      <td>8.807946</td>\n",
       "      <td>0.131574</td>\n",
       "      <td>2001</td>\n",
       "      <td>mam</td>\n",
       "      <td>-0.340000</td>\n",
       "      <td>Neutral Phase</td>\n",
       "      <td>-0.39</td>\n",
       "    </tr>\n",
       "    <tr>\n",
       "      <th>4</th>\n",
       "      <td>2001-05-01</td>\n",
       "      <td>0.875506</td>\n",
       "      <td>0.875942</td>\n",
       "      <td>0.000435</td>\n",
       "      <td>6962.258065</td>\n",
       "      <td>8.848259</td>\n",
       "      <td>0.001625</td>\n",
       "      <td>2001</td>\n",
       "      <td>amj</td>\n",
       "      <td>-0.246667</td>\n",
       "      <td>Neutral Phase</td>\n",
       "      <td>-0.24</td>\n",
       "    </tr>\n",
       "  </tbody>\n",
       "</table>\n",
       "</div>"
      ],
      "text/plain": [
       "        DATE       ASK       BID    SPREAD        VOLUME  LnVOLUME  \\\n",
       "0 2001-01-01  0.939697  0.940119  0.000423  15158.258065  9.626301   \n",
       "1 2001-02-01  0.921614  0.922032  0.000418  15665.750000  9.659232   \n",
       "2 2001-03-01  0.909348  0.909732  0.000384   9611.129032  9.170677   \n",
       "3 2001-04-01  0.892967  0.893367  0.000400   6687.166667  8.807946   \n",
       "4 2001-05-01  0.875506  0.875942  0.000435   6962.258065  8.848259   \n",
       "\n",
       "   volatilityeu  Year SEASON       ONI               Phase  dSST3.4  \n",
       "0      0.000000  2001    djf -0.680000  Cool Phase/La Nina    -0.63  \n",
       "1      0.001084  2001    jfm -0.516667  Cool Phase/La Nina    -0.53  \n",
       "2      0.238686  2001    fma -0.436667       Neutral Phase    -0.39  \n",
       "3      0.131574  2001    mam -0.340000       Neutral Phase    -0.39  \n",
       "4      0.001625  2001    amj -0.246667       Neutral Phase    -0.24  "
      ]
     },
     "execution_count": 8,
     "metadata": {},
     "output_type": "execute_result"
    }
   ],
   "source": [
    "###  - Données FOREX EUROPE \n",
    "forex_Europ = pd.read_excel(path+\"volumedata.xlsx\",sheet_name=\"EUROPE\")\n",
    "### Fusion \n",
    "forex_Europe=pd.merge(forex_Europ,oni,on=\"DATE\") \n",
    "forex_Europe.head(5)"
   ]
  },
  {
   "cell_type": "code",
   "execution_count": 9,
   "id": "73bbe555",
   "metadata": {},
   "outputs": [
    {
     "data": {
      "text/html": [
       "<div>\n",
       "<style scoped>\n",
       "    .dataframe tbody tr th:only-of-type {\n",
       "        vertical-align: middle;\n",
       "    }\n",
       "\n",
       "    .dataframe tbody tr th {\n",
       "        vertical-align: top;\n",
       "    }\n",
       "\n",
       "    .dataframe thead th {\n",
       "        text-align: right;\n",
       "    }\n",
       "</style>\n",
       "<table border=\"1\" class=\"dataframe\">\n",
       "  <thead>\n",
       "    <tr style=\"text-align: right;\">\n",
       "      <th></th>\n",
       "      <th>DATE</th>\n",
       "      <th>ASK</th>\n",
       "      <th>BID</th>\n",
       "      <th>Spread</th>\n",
       "      <th>Volume</th>\n",
       "      <th>LnVolume</th>\n",
       "      <th>volatilitysa</th>\n",
       "      <th>Year</th>\n",
       "      <th>SEASON</th>\n",
       "      <th>ONI</th>\n",
       "      <th>Phase</th>\n",
       "      <th>dSST3.4</th>\n",
       "    </tr>\n",
       "  </thead>\n",
       "  <tbody>\n",
       "    <tr>\n",
       "      <th>139</th>\n",
       "      <td>2012-08-01</td>\n",
       "      <td>0.12915</td>\n",
       "      <td>0.12933</td>\n",
       "      <td>0.00018</td>\n",
       "      <td>49991</td>\n",
       "      <td>10.819598</td>\n",
       "      <td>0.000147</td>\n",
       "      <td>2012</td>\n",
       "      <td>jas</td>\n",
       "      <td>0.366667</td>\n",
       "      <td>Neutral Phase</td>\n",
       "      <td>0.47</td>\n",
       "    </tr>\n",
       "    <tr>\n",
       "      <th>140</th>\n",
       "      <td>2012-09-01</td>\n",
       "      <td>0.13017</td>\n",
       "      <td>0.13058</td>\n",
       "      <td>0.00041</td>\n",
       "      <td>50979</td>\n",
       "      <td>10.839169</td>\n",
       "      <td>0.000383</td>\n",
       "      <td>2012</td>\n",
       "      <td>aso</td>\n",
       "      <td>0.370000</td>\n",
       "      <td>Neutral Phase</td>\n",
       "      <td>0.38</td>\n",
       "    </tr>\n",
       "    <tr>\n",
       "      <th>141</th>\n",
       "      <td>2012-10-01</td>\n",
       "      <td>0.13426</td>\n",
       "      <td>0.13449</td>\n",
       "      <td>0.00023</td>\n",
       "      <td>50678</td>\n",
       "      <td>10.833247</td>\n",
       "      <td>0.000035</td>\n",
       "      <td>2012</td>\n",
       "      <td>son</td>\n",
       "      <td>0.263333</td>\n",
       "      <td>Neutral Phase</td>\n",
       "      <td>0.26</td>\n",
       "    </tr>\n",
       "    <tr>\n",
       "      <th>142</th>\n",
       "      <td>2012-11-01</td>\n",
       "      <td>0.13014</td>\n",
       "      <td>0.13042</td>\n",
       "      <td>0.00028</td>\n",
       "      <td>50813</td>\n",
       "      <td>10.835908</td>\n",
       "      <td>0.000007</td>\n",
       "      <td>2012</td>\n",
       "      <td>ond</td>\n",
       "      <td>0.053333</td>\n",
       "      <td>Neutral Phase</td>\n",
       "      <td>0.15</td>\n",
       "    </tr>\n",
       "    <tr>\n",
       "      <th>143</th>\n",
       "      <td>2012-12-01</td>\n",
       "      <td>0.12346</td>\n",
       "      <td>0.12407</td>\n",
       "      <td>0.00061</td>\n",
       "      <td>50753</td>\n",
       "      <td>10.834726</td>\n",
       "      <td>0.000001</td>\n",
       "      <td>2012</td>\n",
       "      <td>ndj</td>\n",
       "      <td>-0.210000</td>\n",
       "      <td>Neutral Phase</td>\n",
       "      <td>-0.25</td>\n",
       "    </tr>\n",
       "  </tbody>\n",
       "</table>\n",
       "</div>"
      ],
      "text/plain": [
       "          DATE      ASK      BID   Spread  Volume   LnVolume  volatilitysa   \\\n",
       "139 2012-08-01  0.12915  0.12933  0.00018   49991  10.819598       0.000147   \n",
       "140 2012-09-01  0.13017  0.13058  0.00041   50979  10.839169       0.000383   \n",
       "141 2012-10-01  0.13426  0.13449  0.00023   50678  10.833247       0.000035   \n",
       "142 2012-11-01  0.13014  0.13042  0.00028   50813  10.835908       0.000007   \n",
       "143 2012-12-01  0.12346  0.12407  0.00061   50753  10.834726       0.000001   \n",
       "\n",
       "     Year SEASON       ONI          Phase  dSST3.4  \n",
       "139  2012    jas  0.366667  Neutral Phase     0.47  \n",
       "140  2012    aso  0.370000  Neutral Phase     0.38  \n",
       "141  2012    son  0.263333  Neutral Phase     0.26  \n",
       "142  2012    ond  0.053333  Neutral Phase     0.15  \n",
       "143  2012    ndj -0.210000  Neutral Phase    -0.25  "
      ]
     },
     "execution_count": 9,
     "metadata": {},
     "output_type": "execute_result"
    }
   ],
   "source": [
    "###  - Données FOREX S_AFRICA \n",
    "forex_Safric = pd.read_excel(path+\"volumedata.xlsx\",sheet_name=\"S-AFRICA\")\n",
    "### Fusion \n",
    "forex_Safrica=pd.merge(forex_Safric,oni,on=\"DATE\") \n",
    "forex_Safrica.tail(5)"
   ]
  },
  {
   "cell_type": "code",
   "execution_count": 10,
   "id": "b7b3cbe5",
   "metadata": {},
   "outputs": [
    {
     "data": {
      "text/html": [
       "<div>\n",
       "<style scoped>\n",
       "    .dataframe tbody tr th:only-of-type {\n",
       "        vertical-align: middle;\n",
       "    }\n",
       "\n",
       "    .dataframe tbody tr th {\n",
       "        vertical-align: top;\n",
       "    }\n",
       "\n",
       "    .dataframe thead th {\n",
       "        text-align: right;\n",
       "    }\n",
       "</style>\n",
       "<table border=\"1\" class=\"dataframe\">\n",
       "  <thead>\n",
       "    <tr style=\"text-align: right;\">\n",
       "      <th></th>\n",
       "      <th>DATE</th>\n",
       "      <th>ASK</th>\n",
       "      <th>BID</th>\n",
       "      <th>Spread</th>\n",
       "      <th>Volume</th>\n",
       "      <th>LnVolume</th>\n",
       "      <th>volatilitych</th>\n",
       "      <th>Year</th>\n",
       "      <th>SEASON</th>\n",
       "      <th>ONI</th>\n",
       "      <th>Phase</th>\n",
       "      <th>dSST3.4</th>\n",
       "    </tr>\n",
       "  </thead>\n",
       "  <tbody>\n",
       "    <tr>\n",
       "      <th>0</th>\n",
       "      <td>2001-01-01</td>\n",
       "      <td>0.17801</td>\n",
       "      <td>0.17801</td>\n",
       "      <td>0.0</td>\n",
       "      <td>16278.848065</td>\n",
       "      <td>9.697622</td>\n",
       "      <td>0.000000</td>\n",
       "      <td>2001</td>\n",
       "      <td>djf</td>\n",
       "      <td>-0.680000</td>\n",
       "      <td>Cool Phase/La Nina</td>\n",
       "      <td>-0.63</td>\n",
       "    </tr>\n",
       "    <tr>\n",
       "      <th>1</th>\n",
       "      <td>2001-02-01</td>\n",
       "      <td>0.17468</td>\n",
       "      <td>0.17468</td>\n",
       "      <td>0.0</td>\n",
       "      <td>16333.792143</td>\n",
       "      <td>9.700991</td>\n",
       "      <td>0.000011</td>\n",
       "      <td>2001</td>\n",
       "      <td>jfm</td>\n",
       "      <td>-0.516667</td>\n",
       "      <td>Cool Phase/La Nina</td>\n",
       "      <td>-0.53</td>\n",
       "    </tr>\n",
       "    <tr>\n",
       "      <th>2</th>\n",
       "      <td>2001-03-01</td>\n",
       "      <td>0.16785</td>\n",
       "      <td>0.16785</td>\n",
       "      <td>0.0</td>\n",
       "      <td>16388.752258</td>\n",
       "      <td>9.704351</td>\n",
       "      <td>0.000011</td>\n",
       "      <td>2001</td>\n",
       "      <td>fma</td>\n",
       "      <td>-0.436667</td>\n",
       "      <td>Neutral Phase</td>\n",
       "      <td>-0.39</td>\n",
       "    </tr>\n",
       "    <tr>\n",
       "      <th>3</th>\n",
       "      <td>2001-04-01</td>\n",
       "      <td>0.16643</td>\n",
       "      <td>0.16643</td>\n",
       "      <td>0.0</td>\n",
       "      <td>16435.005333</td>\n",
       "      <td>9.707169</td>\n",
       "      <td>0.000008</td>\n",
       "      <td>2001</td>\n",
       "      <td>mam</td>\n",
       "      <td>-0.340000</td>\n",
       "      <td>Neutral Phase</td>\n",
       "      <td>-0.39</td>\n",
       "    </tr>\n",
       "    <tr>\n",
       "      <th>4</th>\n",
       "      <td>2001-05-01</td>\n",
       "      <td>0.16367</td>\n",
       "      <td>0.16367</td>\n",
       "      <td>0.0</td>\n",
       "      <td>16477.048387</td>\n",
       "      <td>9.709724</td>\n",
       "      <td>0.000007</td>\n",
       "      <td>2001</td>\n",
       "      <td>amj</td>\n",
       "      <td>-0.246667</td>\n",
       "      <td>Neutral Phase</td>\n",
       "      <td>-0.24</td>\n",
       "    </tr>\n",
       "  </tbody>\n",
       "</table>\n",
       "</div>"
      ],
      "text/plain": [
       "        DATE      ASK      BID  Spread        Volume  LnVolume  volatilitych  \\\n",
       "0 2001-01-01  0.17801  0.17801     0.0  16278.848065  9.697622      0.000000   \n",
       "1 2001-02-01  0.17468  0.17468     0.0  16333.792143  9.700991      0.000011   \n",
       "2 2001-03-01  0.16785  0.16785     0.0  16388.752258  9.704351      0.000011   \n",
       "3 2001-04-01  0.16643  0.16643     0.0  16435.005333  9.707169      0.000008   \n",
       "4 2001-05-01  0.16367  0.16367     0.0  16477.048387  9.709724      0.000007   \n",
       "\n",
       "   Year SEASON       ONI               Phase  dSST3.4  \n",
       "0  2001    djf -0.680000  Cool Phase/La Nina    -0.63  \n",
       "1  2001    jfm -0.516667  Cool Phase/La Nina    -0.53  \n",
       "2  2001    fma -0.436667       Neutral Phase    -0.39  \n",
       "3  2001    mam -0.340000       Neutral Phase    -0.39  \n",
       "4  2001    amj -0.246667       Neutral Phase    -0.24  "
      ]
     },
     "execution_count": 10,
     "metadata": {},
     "output_type": "execute_result"
    }
   ],
   "source": [
    "###  1 - Données FOREX CHILE \n",
    "forex_Chily = pd.read_excel(path+\"volumedata.xlsx\",sheet_name=\"CHILE\")\n",
    "### Fusion\n",
    "forex_Chile=pd.merge(forex_Chily,oni,on=\"DATE\") \n",
    "forex_Chile.head(5)"
   ]
  },
  {
   "cell_type": "code",
   "execution_count": 11,
   "id": "b1485a49",
   "metadata": {},
   "outputs": [
    {
     "data": {
      "text/html": [
       "<div>\n",
       "<style scoped>\n",
       "    .dataframe tbody tr th:only-of-type {\n",
       "        vertical-align: middle;\n",
       "    }\n",
       "\n",
       "    .dataframe tbody tr th {\n",
       "        vertical-align: top;\n",
       "    }\n",
       "\n",
       "    .dataframe thead th {\n",
       "        text-align: right;\n",
       "    }\n",
       "</style>\n",
       "<table border=\"1\" class=\"dataframe\">\n",
       "  <thead>\n",
       "    <tr style=\"text-align: right;\">\n",
       "      <th></th>\n",
       "      <th>DATE</th>\n",
       "      <th>ASK</th>\n",
       "      <th>BID</th>\n",
       "      <th>Spread</th>\n",
       "      <th>Volume</th>\n",
       "      <th>LnVolume</th>\n",
       "      <th>volatilityau</th>\n",
       "      <th>Year</th>\n",
       "      <th>SEASON</th>\n",
       "      <th>ONI</th>\n",
       "      <th>Phase</th>\n",
       "      <th>dSST3.4</th>\n",
       "    </tr>\n",
       "  </thead>\n",
       "  <tbody>\n",
       "    <tr>\n",
       "      <th>0</th>\n",
       "      <td>2001-01-01</td>\n",
       "      <td>0.6464</td>\n",
       "      <td>0.64624</td>\n",
       "      <td>0.00016</td>\n",
       "      <td>4961.0</td>\n",
       "      <td>8.509363</td>\n",
       "      <td>0.000000</td>\n",
       "      <td>2001</td>\n",
       "      <td>djf</td>\n",
       "      <td>-0.680000</td>\n",
       "      <td>Cool Phase/La Nina</td>\n",
       "      <td>-0.63</td>\n",
       "    </tr>\n",
       "    <tr>\n",
       "      <th>1</th>\n",
       "      <td>2001-02-01</td>\n",
       "      <td>0.6464</td>\n",
       "      <td>0.64624</td>\n",
       "      <td>0.00016</td>\n",
       "      <td>4736.0</td>\n",
       "      <td>8.462948</td>\n",
       "      <td>0.002154</td>\n",
       "      <td>2001</td>\n",
       "      <td>jfm</td>\n",
       "      <td>-0.516667</td>\n",
       "      <td>Cool Phase/La Nina</td>\n",
       "      <td>-0.53</td>\n",
       "    </tr>\n",
       "    <tr>\n",
       "      <th>2</th>\n",
       "      <td>2001-03-01</td>\n",
       "      <td>0.6464</td>\n",
       "      <td>0.64624</td>\n",
       "      <td>0.00016</td>\n",
       "      <td>4130.0</td>\n",
       "      <td>8.326033</td>\n",
       "      <td>0.018746</td>\n",
       "      <td>2001</td>\n",
       "      <td>fma</td>\n",
       "      <td>-0.436667</td>\n",
       "      <td>Neutral Phase</td>\n",
       "      <td>-0.39</td>\n",
       "    </tr>\n",
       "    <tr>\n",
       "      <th>3</th>\n",
       "      <td>2001-04-01</td>\n",
       "      <td>0.6464</td>\n",
       "      <td>0.64624</td>\n",
       "      <td>0.00016</td>\n",
       "      <td>5650.0</td>\n",
       "      <td>8.639411</td>\n",
       "      <td>0.098206</td>\n",
       "      <td>2001</td>\n",
       "      <td>mam</td>\n",
       "      <td>-0.340000</td>\n",
       "      <td>Neutral Phase</td>\n",
       "      <td>-0.39</td>\n",
       "    </tr>\n",
       "    <tr>\n",
       "      <th>4</th>\n",
       "      <td>2001-05-01</td>\n",
       "      <td>0.6464</td>\n",
       "      <td>0.64624</td>\n",
       "      <td>0.00016</td>\n",
       "      <td>6393.0</td>\n",
       "      <td>8.762959</td>\n",
       "      <td>0.015264</td>\n",
       "      <td>2001</td>\n",
       "      <td>amj</td>\n",
       "      <td>-0.246667</td>\n",
       "      <td>Neutral Phase</td>\n",
       "      <td>-0.24</td>\n",
       "    </tr>\n",
       "  </tbody>\n",
       "</table>\n",
       "</div>"
      ],
      "text/plain": [
       "        DATE    ASK       BID   Spread  Volume  LnVolume  volatilityau  Year  \\\n",
       "0 2001-01-01  0.6464  0.64624  0.00016  4961.0  8.509363      0.000000  2001   \n",
       "1 2001-02-01  0.6464  0.64624  0.00016  4736.0  8.462948      0.002154  2001   \n",
       "2 2001-03-01  0.6464  0.64624  0.00016  4130.0  8.326033      0.018746  2001   \n",
       "3 2001-04-01  0.6464  0.64624  0.00016  5650.0  8.639411      0.098206  2001   \n",
       "4 2001-05-01  0.6464  0.64624  0.00016  6393.0  8.762959      0.015264  2001   \n",
       "\n",
       "  SEASON       ONI               Phase  dSST3.4  \n",
       "0    djf -0.680000  Cool Phase/La Nina    -0.63  \n",
       "1    jfm -0.516667  Cool Phase/La Nina    -0.53  \n",
       "2    fma -0.436667       Neutral Phase    -0.39  \n",
       "3    mam -0.340000       Neutral Phase    -0.39  \n",
       "4    amj -0.246667       Neutral Phase    -0.24  "
      ]
     },
     "execution_count": 11,
     "metadata": {},
     "output_type": "execute_result"
    }
   ],
   "source": [
    "### 1 - Données FOREX AUSTRALIA\n",
    "forex_Australi = pd.read_excel(path+\"volumedata.xlsx\",sheet_name=\"AUSTRALIA\")\n",
    "### Fusion \n",
    "forex_Australia=pd.merge(forex_Australi,oni,on=\"DATE\") \n",
    "forex_Australia.head(5)"
   ]
  },
  {
   "cell_type": "code",
   "execution_count": 12,
   "id": "a8edd467",
   "metadata": {},
   "outputs": [
    {
     "data": {
      "text/html": [
       "<div>\n",
       "<style scoped>\n",
       "    .dataframe tbody tr th:only-of-type {\n",
       "        vertical-align: middle;\n",
       "    }\n",
       "\n",
       "    .dataframe tbody tr th {\n",
       "        vertical-align: top;\n",
       "    }\n",
       "\n",
       "    .dataframe thead th {\n",
       "        text-align: right;\n",
       "    }\n",
       "</style>\n",
       "<table border=\"1\" class=\"dataframe\">\n",
       "  <thead>\n",
       "    <tr style=\"text-align: right;\">\n",
       "      <th></th>\n",
       "      <th>DATE</th>\n",
       "      <th>SOUTH_AFRICA</th>\n",
       "      <th>AUSTRALIA</th>\n",
       "      <th>CHILE</th>\n",
       "      <th>EUROPA</th>\n",
       "      <th>Year</th>\n",
       "      <th>SEASON</th>\n",
       "      <th>ONI</th>\n",
       "      <th>Phase</th>\n",
       "      <th>dSST3.4</th>\n",
       "    </tr>\n",
       "  </thead>\n",
       "  <tbody>\n",
       "    <tr>\n",
       "      <th>0</th>\n",
       "      <td>2001-01-01</td>\n",
       "      <td>8.946375</td>\n",
       "      <td>8.509363</td>\n",
       "      <td>9.697622</td>\n",
       "      <td>9.626301</td>\n",
       "      <td>2001</td>\n",
       "      <td>djf</td>\n",
       "      <td>-0.680000</td>\n",
       "      <td>Cool Phase/La Nina</td>\n",
       "      <td>-0.63</td>\n",
       "    </tr>\n",
       "    <tr>\n",
       "      <th>1</th>\n",
       "      <td>2001-02-01</td>\n",
       "      <td>8.950403</td>\n",
       "      <td>8.462948</td>\n",
       "      <td>9.700991</td>\n",
       "      <td>9.659232</td>\n",
       "      <td>2001</td>\n",
       "      <td>jfm</td>\n",
       "      <td>-0.516667</td>\n",
       "      <td>Cool Phase/La Nina</td>\n",
       "      <td>-0.53</td>\n",
       "    </tr>\n",
       "    <tr>\n",
       "      <th>2</th>\n",
       "      <td>2001-03-01</td>\n",
       "      <td>8.946635</td>\n",
       "      <td>8.326033</td>\n",
       "      <td>9.704351</td>\n",
       "      <td>9.170677</td>\n",
       "      <td>2001</td>\n",
       "      <td>fma</td>\n",
       "      <td>-0.436667</td>\n",
       "      <td>Neutral Phase</td>\n",
       "      <td>-0.39</td>\n",
       "    </tr>\n",
       "    <tr>\n",
       "      <th>3</th>\n",
       "      <td>2001-04-01</td>\n",
       "      <td>8.946245</td>\n",
       "      <td>8.639411</td>\n",
       "      <td>9.707169</td>\n",
       "      <td>8.807946</td>\n",
       "      <td>2001</td>\n",
       "      <td>mam</td>\n",
       "      <td>-0.340000</td>\n",
       "      <td>Neutral Phase</td>\n",
       "      <td>-0.39</td>\n",
       "    </tr>\n",
       "    <tr>\n",
       "      <th>4</th>\n",
       "      <td>2001-05-01</td>\n",
       "      <td>8.938400</td>\n",
       "      <td>8.762959</td>\n",
       "      <td>9.709724</td>\n",
       "      <td>8.848259</td>\n",
       "      <td>2001</td>\n",
       "      <td>amj</td>\n",
       "      <td>-0.246667</td>\n",
       "      <td>Neutral Phase</td>\n",
       "      <td>-0.24</td>\n",
       "    </tr>\n",
       "  </tbody>\n",
       "</table>\n",
       "</div>"
      ],
      "text/plain": [
       "        DATE  SOUTH_AFRICA  AUSTRALIA     CHILE    EUROPA  Year SEASON  \\\n",
       "0 2001-01-01      8.946375   8.509363  9.697622  9.626301  2001    djf   \n",
       "1 2001-02-01      8.950403   8.462948  9.700991  9.659232  2001    jfm   \n",
       "2 2001-03-01      8.946635   8.326033  9.704351  9.170677  2001    fma   \n",
       "3 2001-04-01      8.946245   8.639411  9.707169  8.807946  2001    mam   \n",
       "4 2001-05-01      8.938400   8.762959  9.709724  8.848259  2001    amj   \n",
       "\n",
       "        ONI               Phase  dSST3.4  \n",
       "0 -0.680000  Cool Phase/La Nina    -0.63  \n",
       "1 -0.516667  Cool Phase/La Nina    -0.53  \n",
       "2 -0.436667       Neutral Phase    -0.39  \n",
       "3 -0.340000       Neutral Phase    -0.39  \n",
       "4 -0.246667       Neutral Phase    -0.24  "
      ]
     },
     "execution_count": 12,
     "metadata": {},
     "output_type": "execute_result"
    }
   ],
   "source": [
    "### Fusion bases Données ONI & Données FOREX volumes par pays\n",
    "forexoni=pd.merge(forex_volumes,oni,on=\"DATE\") \n",
    "forexoni.head(5) "
   ]
  },
  {
   "cell_type": "code",
   "execution_count": 13,
   "id": "d95cebbe",
   "metadata": {},
   "outputs": [
    {
     "data": {
      "text/html": [
       "<div>\n",
       "<style scoped>\n",
       "    .dataframe tbody tr th:only-of-type {\n",
       "        vertical-align: middle;\n",
       "    }\n",
       "\n",
       "    .dataframe tbody tr th {\n",
       "        vertical-align: top;\n",
       "    }\n",
       "\n",
       "    .dataframe thead th {\n",
       "        text-align: right;\n",
       "    }\n",
       "</style>\n",
       "<table border=\"1\" class=\"dataframe\">\n",
       "  <thead>\n",
       "    <tr style=\"text-align: right;\">\n",
       "      <th></th>\n",
       "      <th>SOUTH_AFRICA</th>\n",
       "      <th>AUSTRALIA</th>\n",
       "      <th>CHILE</th>\n",
       "      <th>EUROPA</th>\n",
       "      <th>Year</th>\n",
       "      <th>SEASON</th>\n",
       "      <th>ONI</th>\n",
       "      <th>Phase</th>\n",
       "      <th>dSST3.4</th>\n",
       "    </tr>\n",
       "    <tr>\n",
       "      <th>DATE</th>\n",
       "      <th></th>\n",
       "      <th></th>\n",
       "      <th></th>\n",
       "      <th></th>\n",
       "      <th></th>\n",
       "      <th></th>\n",
       "      <th></th>\n",
       "      <th></th>\n",
       "      <th></th>\n",
       "    </tr>\n",
       "  </thead>\n",
       "  <tbody>\n",
       "    <tr>\n",
       "      <th>2001-01-01</th>\n",
       "      <td>8.946375</td>\n",
       "      <td>8.509363</td>\n",
       "      <td>9.697622</td>\n",
       "      <td>9.626301</td>\n",
       "      <td>2001</td>\n",
       "      <td>djf</td>\n",
       "      <td>-0.680000</td>\n",
       "      <td>Cool Phase/La Nina</td>\n",
       "      <td>-0.63</td>\n",
       "    </tr>\n",
       "    <tr>\n",
       "      <th>2001-02-01</th>\n",
       "      <td>8.950403</td>\n",
       "      <td>8.462948</td>\n",
       "      <td>9.700991</td>\n",
       "      <td>9.659232</td>\n",
       "      <td>2001</td>\n",
       "      <td>jfm</td>\n",
       "      <td>-0.516667</td>\n",
       "      <td>Cool Phase/La Nina</td>\n",
       "      <td>-0.53</td>\n",
       "    </tr>\n",
       "    <tr>\n",
       "      <th>2001-03-01</th>\n",
       "      <td>8.946635</td>\n",
       "      <td>8.326033</td>\n",
       "      <td>9.704351</td>\n",
       "      <td>9.170677</td>\n",
       "      <td>2001</td>\n",
       "      <td>fma</td>\n",
       "      <td>-0.436667</td>\n",
       "      <td>Neutral Phase</td>\n",
       "      <td>-0.39</td>\n",
       "    </tr>\n",
       "    <tr>\n",
       "      <th>2001-04-01</th>\n",
       "      <td>8.946245</td>\n",
       "      <td>8.639411</td>\n",
       "      <td>9.707169</td>\n",
       "      <td>8.807946</td>\n",
       "      <td>2001</td>\n",
       "      <td>mam</td>\n",
       "      <td>-0.340000</td>\n",
       "      <td>Neutral Phase</td>\n",
       "      <td>-0.39</td>\n",
       "    </tr>\n",
       "    <tr>\n",
       "      <th>2001-05-01</th>\n",
       "      <td>8.938400</td>\n",
       "      <td>8.762959</td>\n",
       "      <td>9.709724</td>\n",
       "      <td>8.848259</td>\n",
       "      <td>2001</td>\n",
       "      <td>amj</td>\n",
       "      <td>-0.246667</td>\n",
       "      <td>Neutral Phase</td>\n",
       "      <td>-0.24</td>\n",
       "    </tr>\n",
       "    <tr>\n",
       "      <th>...</th>\n",
       "      <td>...</td>\n",
       "      <td>...</td>\n",
       "      <td>...</td>\n",
       "      <td>...</td>\n",
       "      <td>...</td>\n",
       "      <td>...</td>\n",
       "      <td>...</td>\n",
       "      <td>...</td>\n",
       "      <td>...</td>\n",
       "    </tr>\n",
       "    <tr>\n",
       "      <th>2012-08-01</th>\n",
       "      <td>10.819598</td>\n",
       "      <td>12.720700</td>\n",
       "      <td>10.066939</td>\n",
       "      <td>12.078336</td>\n",
       "      <td>2012</td>\n",
       "      <td>jas</td>\n",
       "      <td>0.366667</td>\n",
       "      <td>Neutral Phase</td>\n",
       "      <td>0.47</td>\n",
       "    </tr>\n",
       "    <tr>\n",
       "      <th>2012-09-01</th>\n",
       "      <td>10.839169</td>\n",
       "      <td>12.539367</td>\n",
       "      <td>10.067424</td>\n",
       "      <td>11.989861</td>\n",
       "      <td>2012</td>\n",
       "      <td>aso</td>\n",
       "      <td>0.370000</td>\n",
       "      <td>Neutral Phase</td>\n",
       "      <td>0.38</td>\n",
       "    </tr>\n",
       "    <tr>\n",
       "      <th>2012-10-01</th>\n",
       "      <td>10.833247</td>\n",
       "      <td>12.747969</td>\n",
       "      <td>10.067934</td>\n",
       "      <td>11.867182</td>\n",
       "      <td>2012</td>\n",
       "      <td>son</td>\n",
       "      <td>0.263333</td>\n",
       "      <td>Neutral Phase</td>\n",
       "      <td>0.26</td>\n",
       "    </tr>\n",
       "    <tr>\n",
       "      <th>2012-11-01</th>\n",
       "      <td>10.835908</td>\n",
       "      <td>13.028807</td>\n",
       "      <td>10.069341</td>\n",
       "      <td>11.791013</td>\n",
       "      <td>2012</td>\n",
       "      <td>ond</td>\n",
       "      <td>0.053333</td>\n",
       "      <td>Neutral Phase</td>\n",
       "      <td>0.15</td>\n",
       "    </tr>\n",
       "    <tr>\n",
       "      <th>2012-12-01</th>\n",
       "      <td>10.834726</td>\n",
       "      <td>12.070529</td>\n",
       "      <td>10.071202</td>\n",
       "      <td>11.759617</td>\n",
       "      <td>2012</td>\n",
       "      <td>ndj</td>\n",
       "      <td>-0.210000</td>\n",
       "      <td>Neutral Phase</td>\n",
       "      <td>-0.25</td>\n",
       "    </tr>\n",
       "  </tbody>\n",
       "</table>\n",
       "<p>144 rows × 9 columns</p>\n",
       "</div>"
      ],
      "text/plain": [
       "            SOUTH_AFRICA  AUSTRALIA      CHILE     EUROPA  Year SEASON  \\\n",
       "DATE                                                                     \n",
       "2001-01-01      8.946375   8.509363   9.697622   9.626301  2001    djf   \n",
       "2001-02-01      8.950403   8.462948   9.700991   9.659232  2001    jfm   \n",
       "2001-03-01      8.946635   8.326033   9.704351   9.170677  2001    fma   \n",
       "2001-04-01      8.946245   8.639411   9.707169   8.807946  2001    mam   \n",
       "2001-05-01      8.938400   8.762959   9.709724   8.848259  2001    amj   \n",
       "...                  ...        ...        ...        ...   ...    ...   \n",
       "2012-08-01     10.819598  12.720700  10.066939  12.078336  2012    jas   \n",
       "2012-09-01     10.839169  12.539367  10.067424  11.989861  2012    aso   \n",
       "2012-10-01     10.833247  12.747969  10.067934  11.867182  2012    son   \n",
       "2012-11-01     10.835908  13.028807  10.069341  11.791013  2012    ond   \n",
       "2012-12-01     10.834726  12.070529  10.071202  11.759617  2012    ndj   \n",
       "\n",
       "                 ONI               Phase  dSST3.4  \n",
       "DATE                                               \n",
       "2001-01-01 -0.680000  Cool Phase/La Nina    -0.63  \n",
       "2001-02-01 -0.516667  Cool Phase/La Nina    -0.53  \n",
       "2001-03-01 -0.436667       Neutral Phase    -0.39  \n",
       "2001-04-01 -0.340000       Neutral Phase    -0.39  \n",
       "2001-05-01 -0.246667       Neutral Phase    -0.24  \n",
       "...              ...                 ...      ...  \n",
       "2012-08-01  0.366667       Neutral Phase     0.47  \n",
       "2012-09-01  0.370000       Neutral Phase     0.38  \n",
       "2012-10-01  0.263333       Neutral Phase     0.26  \n",
       "2012-11-01  0.053333       Neutral Phase     0.15  \n",
       "2012-12-01 -0.210000       Neutral Phase    -0.25  \n",
       "\n",
       "[144 rows x 9 columns]"
      ]
     },
     "execution_count": 13,
     "metadata": {},
     "output_type": "execute_result"
    }
   ],
   "source": [
    "forexoni.set_index(\"DATE\", inplace =True)\n",
    "forexoni"
   ]
  },
  {
   "cell_type": "markdown",
   "id": "45e500b9",
   "metadata": {},
   "source": [
    "### Data Understanding\n"
   ]
  },
  {
   "cell_type": "markdown",
   "id": "c28c60e6",
   "metadata": {},
   "source": [
    "### Data Visualization "
   ]
  },
  {
   "cell_type": "code",
   "execution_count": 14,
   "id": "25af8c44",
   "metadata": {},
   "outputs": [],
   "source": [
    "# Installation de plotly pour la visualisation interactive \n",
    "#!pip install plotly"
   ]
  },
  {
   "cell_type": "code",
   "execution_count": 15,
   "id": "89491bf0",
   "metadata": {},
   "outputs": [],
   "source": [
    "# FOREX VOLUME interactive time series\n",
    "#import plotly.express as px \n",
    "#plot = px.line(data_frame=forexoni, y='EUROPA', color='Year', template=\"simple_white\", labels={'Date':'Time'}, \n",
    "#title=\" EUROPA FOREX VOLUME Changes Over Time\")\n",
    "#plot.show()"
   ]
  },
  {
   "cell_type": "code",
   "execution_count": 16,
   "id": "f58b34b3",
   "metadata": {},
   "outputs": [
    {
     "ename": "NameError",
     "evalue": "name 'px' is not defined",
     "output_type": "error",
     "traceback": [
      "\u001b[1;31m---------------------------------------------------------------------------\u001b[0m",
      "\u001b[1;31mNameError\u001b[0m                                 Traceback (most recent call last)",
      "\u001b[1;32m~\\AppData\\Local\\Temp/ipykernel_6312/2070763386.py\u001b[0m in \u001b[0;36m<module>\u001b[1;34m\u001b[0m\n\u001b[0;32m      1\u001b[0m \u001b[1;31m# ONI interactive time series\u001b[0m\u001b[1;33m\u001b[0m\u001b[1;33m\u001b[0m\u001b[0m\n\u001b[1;32m----> 2\u001b[1;33m \u001b[0mplot\u001b[0m \u001b[1;33m=\u001b[0m \u001b[0mpx\u001b[0m\u001b[1;33m.\u001b[0m\u001b[0mline\u001b[0m\u001b[1;33m(\u001b[0m\u001b[0mdata_frame\u001b[0m\u001b[1;33m=\u001b[0m\u001b[0mforexoni\u001b[0m\u001b[1;33m,\u001b[0m \u001b[0my\u001b[0m\u001b[1;33m=\u001b[0m\u001b[1;34m'ONI'\u001b[0m\u001b[1;33m,\u001b[0m \u001b[0mlabels\u001b[0m\u001b[1;33m=\u001b[0m\u001b[1;33m{\u001b[0m\u001b[1;34m'Date'\u001b[0m\u001b[1;33m:\u001b[0m\u001b[1;34m'Time'\u001b[0m\u001b[1;33m}\u001b[0m\u001b[1;33m,\u001b[0m\u001b[1;33m)\u001b[0m\u001b[1;33m\u001b[0m\u001b[1;33m\u001b[0m\u001b[0m\n\u001b[0m\u001b[0;32m      3\u001b[0m \u001b[1;31m#               title='ONI changes over time')\u001b[0m\u001b[1;33m\u001b[0m\u001b[1;33m\u001b[0m\u001b[0m\n\u001b[0;32m      4\u001b[0m \u001b[0mplot\u001b[0m\u001b[1;33m.\u001b[0m\u001b[0mshow\u001b[0m\u001b[1;33m(\u001b[0m\u001b[1;33m)\u001b[0m\u001b[1;33m\u001b[0m\u001b[1;33m\u001b[0m\u001b[0m\n",
      "\u001b[1;31mNameError\u001b[0m: name 'px' is not defined"
     ]
    }
   ],
   "source": [
    "# ONI interactive time series\n",
    "plot = px.line(data_frame=forexoni, y='ONI', labels={'Date':'Time'},)\n",
    "#               title='ONI changes over time')\n",
    "plot.show()"
   ]
  },
  {
   "cell_type": "code",
   "execution_count": null,
   "id": "e944fb0a",
   "metadata": {},
   "outputs": [],
   "source": [
    "# ONI interactive time series\n",
    "import plotly.express as px \n",
    "plot = px.line(data_frame=forexoni, y='ONI', color='Year',  labels={'Date':'Time'},) \n",
    "#title=\"ONI Changes Over Time\")\n",
    "plot.show()"
   ]
  },
  {
   "cell_type": "code",
   "execution_count": null,
   "id": "7f017db3",
   "metadata": {},
   "outputs": [],
   "source": [
    "# libraries\n",
    "import matplotlib\n",
    "import warnings\n",
    "warnings.filterwarnings('ignore')\n",
    "\n",
    "import numpy as np\n",
    "import pandas as pd\n",
    "import plotly.express as px \n",
    "import matplotlib.pyplot as plt\n",
    "\n",
    "from sklearn.preprocessing import MinMaxScaler\n",
    "#from tensorflow.keras.models import Sequential\n",
    "#from tensorflow.keras.layers import Dense, BatchNormalization, Conv1D, MaxPooling1D, Flatten, SimpleRNN, LSTM, TimeDistributed\n",
    "#from tensorflow.keras.metrics import RootMeanSquaredError"
   ]
  },
  {
   "cell_type": "code",
   "execution_count": null,
   "id": "5b69fcf8",
   "metadata": {},
   "outputs": [],
   "source": [
    "# ONI and ENSO relation\n",
    "\n",
    "plt.figure(figsize=(15, 5))\n",
    "\n",
    "# convert dates to numbers to get x-axis range\n",
    "x = matplotlib.dates.date2num(forexoni.index)\n",
    "\n",
    "# plot Year and ONI\n",
    "plt.plot(forexoni.ONI, color='purple')\n",
    "plt.xlabel('Year')\n",
    "plt.ylabel('ONI')\n",
    "#plt.title('ENSO and ONI Relation')\n",
    "\n",
    "# add horizontal lines and labels to define ENSO phase and intensity\n",
    "\n",
    "plt.axhline(y=2, color='r', linestyle=':')\n",
    "plt.text(x=x[-1], y=2, color='red', s='              very strong')\n",
    "\n",
    "plt.axhline(y=1.5, color='r', linestyle=':')\n",
    "plt.text(x=x[-1], y=1.5, color='red', s='              strong')\n",
    "\n",
    "plt.axhline(y=1, color='r', linestyle=':')\n",
    "plt.text(x[-1], 1, color='r', s='              moderate')\n",
    "\n",
    "plt.axhline(y=0.5, color='r', linestyle=':')\n",
    "plt.text(x[-1], 0.5, color='r', s='              weak')\n",
    "\n",
    "plt.axhline(y=-0.5, color='b', linestyle=':')\n",
    "plt.text(x[-1], -0.5, color='b', s='              weak')\n",
    "\n",
    "plt.axhline(y=-1, color='b', linestyle=':')\n",
    "plt.text(x[-1], -1, color='b', s='              moderate')\n",
    "\n",
    "plt.axhline(y=-1.5, color='b', linestyle=':')\n",
    "plt.text(x[-1], -1.5, color='b', s='              strong')\n",
    "\n",
    "# custom legends\n",
    "line_red = matplotlib.lines.Line2D([0], [0], label='El-Nino', color='r')\n",
    "line_blue = matplotlib.lines.Line2D([0], [0], label='La-Nina', color='b')\n",
    "plt.legend(handles=[line_red, line_blue])\n",
    "\n",
    "plt.show()"
   ]
  },
  {
   "cell_type": "markdown",
   "id": "4f290a78",
   "metadata": {},
   "source": [
    "## NORMALIZE"
   ]
  },
  {
   "cell_type": "code",
   "execution_count": null,
   "id": "ec5fe7ae",
   "metadata": {},
   "outputs": [],
   "source": [
    "data = forexoni.iloc[:,[1,2,3,4,7]]\n",
    "data.head(5)"
   ]
  },
  {
   "cell_type": "code",
   "execution_count": null,
   "id": "0249e8f0",
   "metadata": {},
   "outputs": [],
   "source": [
    "avgs = data.mean()\n",
    "devs = data.std()\n",
    "for col in data.columns:\n",
    "    data[col] = (data[col] - avgs.loc[col]) / devs.loc[col]"
   ]
  },
  {
   "cell_type": "code",
   "execution_count": null,
   "id": "a68af4f3",
   "metadata": {},
   "outputs": [],
   "source": [
    "plt.figure(figsize=(12,6))\n",
    "euro, = plt.plot(data['EUROPA'],color='orange')\n",
    "rand, = plt.plot(data['SOUTH_AFRICA'],color='purple')\n",
    "aud, = plt.plot(data['AUSTRALIA'],color='green')\n",
    "peso, = plt.plot(data['CHILE'],color='black')\n",
    "tempe, = plt.plot(data['ONI'], color='red')\n",
    "plt.legend(['EUROPA','SOUTH_AFRICA','AUSTRALIA','CHILE', 'ONI'], fontsize=16)"
   ]
  },
  {
   "cell_type": "code",
   "execution_count": null,
   "id": "90520745",
   "metadata": {},
   "outputs": [],
   "source": [
    "plt.figure(figsize=(12,6))\n",
    "plt.subplot(221)\n",
    "euro, = plt.plot(data['EUROPA'],'seagreen')\n",
    "tempe, = plt.plot(data['ONI'], 'r', linewidth=3)\n",
    "plt.legend(['EUROPA', 'ONI'], fontsize=16)\n",
    "\n",
    "plt.subplot(222)\n",
    "rand, = plt.plot(data['SOUTH_AFRICA'],color='navy')\n",
    "tempe, = plt.plot(data['ONI'], color='red')\n",
    "plt.legend(['SOUTH_AFRICA', 'ONI'], fontsize=16)\n",
    "\n",
    "plt.subplot(223)\n",
    "peso, = plt.plot(data['CHILE'],color='darkmagenta')\n",
    "tempe, = plt.plot(data['ONI'], color='red')\n",
    "plt.legend(['CHILE', 'ONI'], fontsize=16)\n",
    "\n",
    "plt.subplot(224)\n",
    "peso, = plt.plot(data['AUSTRALIA'],color='goldenrod')\n",
    "tempe, = plt.plot(data['ONI'], color='red')\n",
    "plt.legend(['AUSTRALIA', 'ONI'], fontsize=16)\n"
   ]
  },
  {
   "cell_type": "markdown",
   "id": "caf040bb",
   "metadata": {},
   "source": [
    "## PARTIE 3 : TRAITEMENT DES DONNEES"
   ]
  },
  {
   "cell_type": "markdown",
   "id": "f1779d49",
   "metadata": {},
   "source": [
    "### 1 - Data pre processing"
   ]
  },
  {
   "cell_type": "code",
   "execution_count": null,
   "id": "57c3e7e3",
   "metadata": {},
   "outputs": [],
   "source": [
    "forexoni.dtypes"
   ]
  },
  {
   "cell_type": "code",
   "execution_count": null,
   "id": "ca525ad1",
   "metadata": {},
   "outputs": [],
   "source": [
    "# Nombre d'obersation \n",
    "forexoni.Year.count()"
   ]
  },
  {
   "cell_type": "code",
   "execution_count": null,
   "id": "62815793",
   "metadata": {},
   "outputs": [],
   "source": [
    "# affichage du shape \n",
    "forexoni.shape"
   ]
  },
  {
   "cell_type": "code",
   "execution_count": null,
   "id": "cb77b0ea",
   "metadata": {},
   "outputs": [],
   "source": [
    "# avons nous des valeurs manquantes dans la base?\n",
    "\n",
    "forexoni.isna().sum()"
   ]
  },
  {
   "cell_type": "markdown",
   "id": "ea80fc25",
   "metadata": {},
   "source": [
    "### Observations"
   ]
  },
  {
   "cell_type": "markdown",
   "id": "51c7ff9e",
   "metadata": {},
   "source": [
    "rows = 144, columns =11\n",
    "\n",
    "Data from 2001-2012\n",
    "\n",
    "Data isn't normalized"
   ]
  },
  {
   "cell_type": "markdown",
   "id": "5330ad5e",
   "metadata": {},
   "source": [
    "## PARTIE 4 : ETUDES STATISTIQUES"
   ]
  },
  {
   "cell_type": "markdown",
   "id": "43873a3a",
   "metadata": {},
   "source": [
    "### 4.1 - Analyse Univariée "
   ]
  },
  {
   "cell_type": "raw",
   "id": "aa66bf09",
   "metadata": {},
   "source": [
    "Nous souhaitons obtenir le nombre de jours par degré de température par phase puis par  d'année. Pour se faire,\n",
    "nous construsons dans l'étape suivante les tranches d'années et les degrés de températures. Nous utilisons la base \"been\" comportant uniquement les Dates et températures maximales. "
   ]
  },
  {
   "cell_type": "code",
   "execution_count": null,
   "id": "045c9a75",
   "metadata": {},
   "outputs": [],
   "source": [
    "# statisques descriptive sur TEMPMAX\n",
    "forexoni['Phase'].describe()"
   ]
  },
  {
   "cell_type": "markdown",
   "id": "cc43eaac",
   "metadata": {},
   "source": [
    "### 4.2 Analyse bivariée"
   ]
  },
  {
   "cell_type": "code",
   "execution_count": null,
   "id": "2f2c8df3",
   "metadata": {},
   "outputs": [],
   "source": [
    "forexoni['Monthname'] = forexoni['DATE'].dt.month_name()\n",
    "forexoni[\"Whole\"]=np.where((forexoni[\"Year\"]>2000) & (forexoni[\"Year\"]<2013),\"WHOLE\",\"\")\n",
    "forexoni.head()"
   ]
  },
  {
   "cell_type": "markdown",
   "id": "325d2405",
   "metadata": {},
   "source": [
    "### PANEL A"
   ]
  },
  {
   "cell_type": "code",
   "execution_count": null,
   "id": "0e7037e7",
   "metadata": {
    "scrolled": true
   },
   "outputs": [],
   "source": [
    "# NUMBER OF HOT DAYS \n",
    "livrable_A = pd.crosstab(forexoni[\"Year\"],forexoni[\"Phase\"])\n",
    "livrable_A"
   ]
  },
  {
   "cell_type": "markdown",
   "id": "25ef1451",
   "metadata": {},
   "source": [
    "### PANEL B / ONI TEMPERATURE"
   ]
  },
  {
   "cell_type": "code",
   "execution_count": null,
   "id": "47b22dd8",
   "metadata": {
    "scrolled": true
   },
   "outputs": [],
   "source": [
    "#panel b codes 1\n",
    "STAT1  = forexoni.groupby(['Year'] ).agg({'DATE' : 'count'})\n",
    "STAT2  = forexoni.groupby(['Year'] ).agg({'ONI' : np.mean})\n",
    "STAT3  = forexoni.groupby(['Year'] ).agg({'ONI' : np.std})\n",
    "STAT4  = forexoni.groupby(['Year'] ).agg({'ONI' : min})\n",
    "STAT5  = forexoni.groupby(['Year'] ).agg({'ONI' : max})\n",
    "\n",
    "# Différentes fusions des stats\n",
    "livrable_B=pd.merge(STAT1,STAT2,on=\"Year\",how=\"left\")\n",
    "livrable_B=pd.merge(livrable_B,STAT3,on=\"Year\",how=\"left\")\n",
    "livrable_B=pd.merge(livrable_B,STAT4,on=\"Year\",how=\"left\")\n",
    "livrable_B=pd.merge(livrable_B,STAT5,on=\"Year\",how=\"left\")\n",
    "\n",
    "livrable_B"
   ]
  },
  {
   "cell_type": "code",
   "execution_count": null,
   "id": "c0af04eb",
   "metadata": {},
   "outputs": [],
   "source": [
    "# Définissons une Fonction permettant de renommer les colonnes\n",
    "\n",
    "def livrableB (livrable_B,var1, var2,var3,var4,var5):\n",
    "    livrable_B = livrable_B.rename(columns={var1 : \"N\",var2 :\"MEAN\",var3 : \"s.d\",var4 : \"MIN\",var5 : \"MAX\"},inplace=True)\n",
    "livrableB (livrable_B,'DATE','ONI_x','ONI_y','ONI_x','ONI_y')\n",
    "livrable_B"
   ]
  },
  {
   "cell_type": "code",
   "execution_count": null,
   "id": "a5c38d41",
   "metadata": {},
   "outputs": [],
   "source": [
    "# Covertion de notre fichier final au format excel\n",
    "x = \"C:/Users/dell/Desktop/Nouveau dossier/MASTER 2021 2023/M2IFM/S2M2/MEMOIRE/DATA/\"\n",
    "\n",
    "livrable_B.to_excel(x+\"livrable_B.xlsx\",sheet_name=\"livrable_Bresults\")"
   ]
  },
  {
   "cell_type": "code",
   "execution_count": null,
   "id": "2ea7dd3f",
   "metadata": {},
   "outputs": [],
   "source": [
    "livrable_B = pd.read_excel(path+\"livrable_B.xlsx\",sheet_name=\"livrable_Bresults\")\n",
    "# PANEL B avec la variable Whole\n",
    "agg_pop = forexoni.groupby(\"Whole\", as_index=False)\n",
    "all0     = agg_pop[\"ONI\"].agg({\"N\" : 'count'})\n",
    "all1     = agg_pop[\"ONI\"].agg({\"MEAN\" : np.mean})\n",
    "all2     = agg_pop[\"ONI\"].agg({\"s.d\" : np.std})\n",
    "all3     = agg_pop[\"ONI\"].agg({\"MIN\" : min})\n",
    "all4     = agg_pop[\"ONI\"].agg({\"MAX\" : max})\n",
    "\n",
    "livra_W  = pd.merge(all0,all1,on=\"Whole\",how=\"left\")\n",
    "livra_W  = pd.merge(livra_W,all2,on=\"Whole\",how=\"left\")\n",
    "livra_W  = pd.merge(livra_W,all3,on=\"Whole\",how=\"left\")\n",
    "livra_W  = pd.merge(livra_W,all4,on=\"Whole\",how=\"left\")\n",
    "\n",
    "livra_W.head()"
   ]
  },
  {
   "cell_type": "code",
   "execution_count": null,
   "id": "ba37d1b9",
   "metadata": {},
   "outputs": [],
   "source": [
    "# rénomme ma nouvelle base\n",
    "PANEL = livra_W\n",
    "# Fusion des tableaux pour obtenir whole et les yearcategory\n",
    "PANEL = pd.concat([livrable_B, livra_W],ignore_index=False)\n",
    "PANEL"
   ]
  },
  {
   "cell_type": "code",
   "execution_count": null,
   "id": "0fd5f545",
   "metadata": {
    "scrolled": false
   },
   "outputs": [],
   "source": [
    "# suppresion de Whole\n",
    "PANEL_B = PANEL.iloc[:,[0,1,2,3,4,5]]\n",
    "# Tableau panel B\n",
    "PANEL_B.rename(index={\"NaN\":'whole period'},inplace=True)\n",
    "PANEL_B"
   ]
  },
  {
   "cell_type": "markdown",
   "id": "ec91d883",
   "metadata": {},
   "source": [
    "### 4.3 Volume and Temperature statistics "
   ]
  },
  {
   "cell_type": "markdown",
   "id": "b23cb637",
   "metadata": {},
   "source": [
    "#### EUROPE"
   ]
  },
  {
   "cell_type": "code",
   "execution_count": null,
   "id": "aaa23dad",
   "metadata": {},
   "outputs": [],
   "source": [
    "### EUROPE forex volume per month \n",
    "forex_Europe['Monthname'] = forex_Europe['DATE'].dt.month_name()\n",
    "forex_Europe[\"Whole\"]=np.where((forex_Europe[\"Year\"]>2000) & (forex_Europe[\"Year\"]<2013),\"WHOLE\",\"\")\n",
    "\n",
    "### Statistiques de  EUROPA ForexVolume par mois de l'année \n",
    "Barca_month = forex_Europe.groupby(\"Monthname\",as_index=False)\n",
    "Barca1 = Barca_month [\"VOLUME\"].agg({\"total_vol\" : 'sum'})\n",
    "Barca2 = Barca_month [\"VOLUME\"].agg({\"Mean_vol\" : np.mean})\n",
    "\n",
    "livra_Barca  = pd.merge(Barca1,Barca2,on=\"Monthname\",how=\"left\")\n",
    "livra_Barca.sort_values(by=\"total_vol\",ascending=False)\n",
    "\n",
    "# Création des colonnes\n",
    "M_volume = livra_Barca.Mean_vol\n",
    "Yearmonth = livra_Barca.Monthname \n",
    "\n",
    "# Représentation Graphique\n",
    "plt.figure(figsize=(14,6))\n",
    "color = ['navy','navy','black','black','black','navy','navy','navy','red','red','red','red']\n",
    "plt.bar(Yearmonth,M_volume,color=color, width=0.6)\n",
    "plt.xlabel(\"YEARS MONTH\")\n",
    "plt.ylabel(\"EUROPA FOREX VOLUME\")\n",
    "plt.title('EUROPA FOREX volume per Months of Year')\n",
    "plt.show()\n"
   ]
  },
  {
   "cell_type": "markdown",
   "id": "4e64bec8",
   "metadata": {},
   "source": [
    "Transaction volumes are highest in October, September and May, just before and just after the hot summer period. \n",
    "on the other hand, volumes are lower in December, February and January.\n"
   ]
  },
  {
   "cell_type": "code",
   "execution_count": null,
   "id": "c0d6e797",
   "metadata": {},
   "outputs": [],
   "source": [
    "### Statistiques de europa ForexVolume par phase \n",
    "\n",
    "Barca_month = forex_Europe.groupby(\"Phase\",as_index=False)\n",
    "Barca1 = Barca_month [\"VOLUME\"].agg({\"total_vol\" : 'sum'})\n",
    "Barca2 = Barca_month [\"VOLUME\"].agg({\"Mean_vol\" : np.mean})\n",
    "\n",
    "livra_city  = pd.merge(Barca1,Barca2,on=\"Phase\",how=\"left\")\n",
    "livra_city.sort_values(by=\"total_vol\",ascending=False)\n",
    "\n",
    "# Création des colonnes\n",
    "M_volume = livra_city.Mean_vol\n",
    "phases = livra_city.Phase\n",
    "# Représentation Graphique\n",
    "plt.figure(figsize=(10,6))\n",
    "color = ['red','navy','black']\n",
    "plt.bar(phases,M_volume,color=color, width=0.5)\n",
    "plt.xlabel(\"PHASES\")\n",
    "plt.ylabel(\"EUROPE FOREX VOLUME\")\n",
    "plt.title('EUROPE FOREX volume per PHASE')\n",
    "plt.show()"
   ]
  },
  {
   "cell_type": "markdown",
   "id": "5d34fd98",
   "metadata": {},
   "source": [
    "\n",
    "Les volumes de transactions sont plus élevés en périodes de froid (La Nina) suivie de la période normale et très faible en période de chaleur (El Nino)"
   ]
  },
  {
   "cell_type": "markdown",
   "id": "32e50243",
   "metadata": {},
   "source": [
    "####  SOUTH AFRICA"
   ]
  },
  {
   "cell_type": "code",
   "execution_count": null,
   "id": "798b85b7",
   "metadata": {},
   "outputs": [],
   "source": [
    "### SOUTH AFRICA forex volume per month\n",
    "forex_Safrica['Monthname'] = forex_Safrica['DATE'].dt.month_name()\n",
    "forex_Safrica[\"Whole\"]=np.where((forex_Safrica[\"Year\"]>2000) & (forex_Safrica[\"Year\"]<2013),\"WHOLE\",\"\")\n",
    "\n",
    "### Statistiques de  EUROPA ForexVolume par mois de l'année \n",
    "Barca_month = forex_Safrica.groupby(\"Monthname\",as_index=False)\n",
    "Barca1 = Barca_month [\"Volume\"].agg({\"total_vol\" : 'sum'})\n",
    "Barca2 = Barca_month [\"Volume\"].agg({\"Mean_vol\" : np.mean})\n",
    "\n",
    "livra_Barca  = pd.merge(Barca1,Barca2,on=\"Monthname\",how=\"left\")\n",
    "livra_Barca.sort_values(by=\"total_vol\",ascending=False)\n",
    "\n",
    "# Création des colonnes\n",
    "M_volume = livra_Barca.Mean_vol\n",
    "Yearmonth = livra_Barca.Monthname \n",
    "\n",
    "# Représentation Graphique\n",
    "plt.figure(figsize=(14,6))\n",
    "color = ['navy','red','red','black','black','navy','navy','navy','navy','red','red','red']\n",
    "plt.bar(Yearmonth,M_volume,color=color, width=0.6)\n",
    "plt.xlabel(\"YEARS MONTH\")\n",
    "plt.ylabel(\"SOUTH AFRICA FOREX VOLUME\")\n",
    "plt.title('SOUTH AFRICA FOREX volume per Months of Year')\n",
    "plt.show()"
   ]
  },
  {
   "cell_type": "code",
   "execution_count": null,
   "id": "7e394048",
   "metadata": {},
   "outputs": [],
   "source": [
    "### Statistiques de SOUTH AFRICA ForexVolume par phase \n",
    "Barca_month = forex_Safrica.groupby(\"Phase\",as_index=False)\n",
    "Barca1 = Barca_month [\"Volume\"].agg({\"total_vol\" : 'sum'})\n",
    "Barca2 = Barca_month [\"Volume\"].agg({\"Mean_vol\" : np.mean})\n",
    "\n",
    "livra_city  = pd.merge(Barca1,Barca2,on=\"Phase\",how=\"left\")\n",
    "livra_city.sort_values(by=\"total_vol\",ascending=False)\n",
    "\n",
    "# Création des colonnes\n",
    "M_volume = livra_city.Mean_vol\n",
    "phases = livra_city.Phase\n",
    "# Représentation Graphique\n",
    "plt.figure(figsize=(10,6))\n",
    "color = ['red','navy','black']\n",
    "plt.bar(phases,M_volume,color=color, width=0.5)\n",
    "plt.xlabel(\"PHASES\")\n",
    "plt.ylabel(\"SOUTH AFRICA FOREX VOLUME\")\n",
    "plt.title('SOUTH AFRICA FOREX volume per PHASE')\n",
    "plt.show()"
   ]
  },
  {
   "cell_type": "markdown",
   "id": "01afcef1",
   "metadata": {},
   "source": [
    "#### AUSTRALIA"
   ]
  },
  {
   "cell_type": "code",
   "execution_count": null,
   "id": "49348717",
   "metadata": {},
   "outputs": [],
   "source": [
    "### AUSTRALIA forex volume per month \n",
    "forex_Australia['Monthname'] = forex_Australia['DATE'].dt.month_name()\n",
    "forex_Australia[\"Whole\"]=np.where((forex_Australia[\"Year\"]>2000) & (forex_Australia[\"Year\"]<2013),\"WHOLE\",\"\")\n",
    "\n",
    "### Statistiques de  AUSTRALIA ForexVolume par mois de l'année \n",
    "Barca_month = forex_Australia.groupby(\"Monthname\",as_index=False)\n",
    "Barca1 = Barca_month [\"Volume\"].agg({\"total_vol\" : 'sum'})\n",
    "Barca2 = Barca_month [\"Volume\"].agg({\"Mean_vol\" : np.mean})\n",
    "\n",
    "livra_Barca  = pd.merge(Barca1,Barca2,on=\"Monthname\",how=\"left\")\n",
    "livra_Barca.sort_values(by=\"total_vol\",ascending=False)\n",
    "\n",
    "# Création des colonnes\n",
    "M_volume = livra_Barca.Mean_vol\n",
    "Yearmonth = livra_Barca.Monthname \n",
    "\n",
    "# Représentation Graphique\n",
    "plt.figure(figsize=(14,6))\n",
    "color = ['black','red','black','navy','red','red','navy','black','navy','red','red','navy']\n",
    "plt.bar(Yearmonth,M_volume,color=color, width=0.6)\n",
    "plt.xlabel(\"YEARS MONTH\")\n",
    "plt.ylabel(\"AUSTRALIA FOREX VOLUME\")\n",
    "plt.title('AUSTRALIA FOREX volume per Months of Year')\n",
    "plt.show()"
   ]
  },
  {
   "cell_type": "code",
   "execution_count": null,
   "id": "cd8b8bcd",
   "metadata": {},
   "outputs": [],
   "source": [
    "### Statistiques du ForexVolume par phase\n",
    "Barca_month = forex_Australia.groupby(\"Phase\",as_index=False)\n",
    "Barca1 = Barca_month [\"Volume\"].agg({\"total_vol\" : 'sum'})\n",
    "Barca2 = Barca_month [\"Volume\"].agg({\"Mean_vol\" : np.mean})\n",
    "\n",
    "livra_city  = pd.merge(Barca1,Barca2,on=\"Phase\",how=\"left\")\n",
    "livra_city.sort_values(by=\"total_vol\",ascending=False)\n",
    "\n",
    "# Création des colonnes\n",
    "M_volume = livra_city.Mean_vol\n",
    "phases = livra_city.Phase\n",
    "# Représentation Graphique\n",
    "plt.figure(figsize=(10,6))\n",
    "color = ['red','navy','black']\n",
    "plt.bar(phases,M_volume,color=color, width=0.5)\n",
    "plt.xlabel(\"PHASES\")\n",
    "plt.ylabel(\"AUSTRALIA FOREX VOLUME\")\n",
    "plt.title('AUSTRALIA FOREX volume per PHASE')\n",
    "plt.show()"
   ]
  },
  {
   "cell_type": "markdown",
   "id": "5c0f7138",
   "metadata": {},
   "source": [
    "#### CHILE"
   ]
  },
  {
   "cell_type": "code",
   "execution_count": null,
   "id": "f4e60f35",
   "metadata": {},
   "outputs": [],
   "source": [
    "### CHILE forex volume per month \n",
    "\n",
    "forex_Chile['Monthname'] = forex_Chile['DATE'].dt.month_name()\n",
    "forex_Chile[\"Whole\"]=np.where((forex_Chile[\"Year\"]>2000) & (forex_Chile[\"Year\"]<2013),\"WHOLE\",\"\")\n",
    "\n",
    "### Statistiques de  CHILIE ForexVolume par mois de l'année \n",
    "Barca_month = forex_Chile.groupby(\"Monthname\",as_index=False)\n",
    "Barca1 = Barca_month['Volume'].agg({\"total_vol\" : 'sum'})\n",
    "Barca2 = Barca_month['Volume'].agg({\"Mean_vol\" : np.mean})\n",
    "\n",
    "livra_Barca  = pd.merge(Barca1,Barca2,on=\"Monthname\",how=\"left\")\n",
    "livra_Barca.sort_values(by=\"total_vol\",ascending=False)\n",
    "\n",
    "# Création des colonnes\n",
    "M_volume = livra_Barca.Mean_vol\n",
    "Yearmonth = livra_Barca.Monthname \n",
    "\n",
    "# Représentation Graphique\n",
    "plt.figure(figsize=(14,6))\n",
    "color = ['navy','navy','red','black','black','navy','navy','navy','navy','red','red','navy']\n",
    "plt.bar(Yearmonth,M_volume,color=color, width=0.6)\n",
    "plt.xlabel(\"YEARS MONTH\")\n",
    "plt.ylabel(\"CHILE FOREX VOLUME\")\n",
    "plt.title('CHILE FOREX volume per Months of Year')\n",
    "plt.show()"
   ]
  },
  {
   "cell_type": "code",
   "execution_count": null,
   "id": "f3e0d994",
   "metadata": {},
   "outputs": [],
   "source": [
    "###  CHILE ForexVolume statistics  per phase \n",
    "Barca_month = forex_Chile.groupby(\"Phase\",as_index=False)\n",
    "Barca1 = Barca_month [\"Volume\"].agg({\"total_vol\" : 'sum'})\n",
    "Barca2 = Barca_month [\"Volume\"].agg({\"Mean_vol\" : np.mean})\n",
    "\n",
    "livra_city  = pd.merge(Barca1,Barca2,on=\"Phase\",how=\"left\")\n",
    "livra_city.sort_values(by=\"total_vol\",ascending=False)\n",
    "\n",
    "# Création des colonnes\n",
    "M_volume = livra_city.Mean_vol\n",
    "phases = livra_city.Phase\n",
    "# Représentation Graphique\n",
    "plt.figure(figsize=(10,6))\n",
    "color = ['red','navy','black']\n",
    "plt.bar(phases,M_volume,color=color, width=0.5)\n",
    "plt.xlabel(\"PHASES\")\n",
    "plt.ylabel(\"CHILE FOREX VOLUME\")\n",
    "plt.title('CHILE FOREX volume per PHASE')\n",
    "plt.show()"
   ]
  },
  {
   "cell_type": "code",
   "execution_count": null,
   "id": "87d6dc9c",
   "metadata": {},
   "outputs": [],
   "source": [
    "from scipy.stats import skew\n",
    "from scipy import stats"
   ]
  },
  {
   "cell_type": "markdown",
   "id": "efbb1b5c",
   "metadata": {},
   "source": [
    "### 4.4 Kurtosis/ Mean / std/ Jarque Bera descriptives statistics "
   ]
  },
  {
   "cell_type": "code",
   "execution_count": null,
   "id": "ea436165",
   "metadata": {},
   "outputs": [],
   "source": [
    "\n",
    "T1=144\n",
    "T2=144\n",
    "pays = [\"Europa\",\"Volume \",\"Spread\",\"\"\n",
    "                \"South Africa\",\"Volume \",\"Spread\",\n",
    "                \"Australia\",\"Volume \",\"Spread\",\n",
    "                \"Chile \",\"Volume \",\"Spread\",]\n",
    "Nonbre   = [\"\",T1,T1,\n",
    "            \"\",T1,T1,\n",
    "            \"\",T1,T1,\n",
    "            \"\",T1,T1]\n",
    "\n",
    "Z_test     = pd.Series([\"\",forex_Europe[\"VOLUME\"].kurtosis(),forex_Europe[\"SPREAD\"].kurtosis(),\n",
    "                        \"\",forex_Safrica[\"Volume\"].kurtosis(),forex_Safrica[\"Spread\"].kurtosis(),\n",
    "                        \"\",forex_Australia[\"Volume\"].kurtosis(),forex_Australia[\"Spread\"].kurtosis(),\n",
    "                        \"\",forex_Chile[\"Volume\"].kurtosis(),forex_Chile[\"Spread\"].kurtosis()],index=pays)\n",
    "\n",
    "Z_tee     = pd.Series([\"\",skew(forex_Europe[\"VOLUME\"]),skew(forex_Europe[\"SPREAD\"]),\n",
    "                        \"\",skew(forex_Safrica[\"Volume\"]),skew(forex_Safrica[\"Spread\"]),\n",
    "                       \"\",skew(forex_Australia[\"Volume\"]),skew(forex_Australia[\"Spread\"]),\n",
    "                       \"\",skew(forex_Chile[\"Volume\"]),skew(forex_Chile[\"Spread\"])],index=pays)\n",
    "\n",
    "Z        = pd.Series([\"\",np.mean(forex_Europe[\"VOLUME\"]),np.mean(forex_Europe[\"SPREAD\"]),\n",
    "                        \"\",np.mean(forex_Safrica[\"Volume\"]),np.mean(forex_Safrica[\"Spread\"]),\n",
    "                       \"\",np.mean(forex_Australia[\"Volume\"]),np.mean(forex_Australia[\"Spread\"]),\n",
    "                       \"\",np.mean(forex_Chile[\"Volume\"]),np.mean(forex_Chile[\"Spread\"])],index=pays)\n",
    "\n",
    "X        = pd.Series([\"\",np.std(forex_Europe[\"VOLUME\"]),np.std(forex_Europe[\"SPREAD\"]),\n",
    "                        \"\",np.std(forex_Safrica[\"Volume\"]),np.std(forex_Safrica[\"Spread\"]),\n",
    "                       \"\",np.std(forex_Australia[\"Volume\"]),np.std(forex_Australia[\"Spread\"]),\n",
    "                       \"\",np.std(forex_Chile[\"Volume\"]),np.std(forex_Chile[\"Spread\"])],index=pays)\n",
    "\n",
    "normajb    =pd.Series([\"\",(stats.jarque_bera(forex_Europe[\"VOLUME\"])),(stats.jarque_bera(forex_Europe[\"SPREAD\"])),\n",
    "                        \"\",(stats.jarque_bera(forex_Safrica[\"Volume\"])),(stats.jarque_bera(forex_Safrica[\"Spread\"])),\n",
    "                       \"\",(stats.jarque_bera(forex_Australia[\"Volume\"])),(stats.jarque_bera(forex_Australia[\"Spread\"])),\n",
    "                       \"\",(stats.jarque_bera(forex_Chile[\"Volume\"])),(stats.jarque_bera(forex_Chile[\"Spread\"]))],index=pays)\n",
    "\n",
    "normashap    =pd.Series([\"\",stats.shapiro(forex_Europe[\"SPREAD\"]),stats.shapiro(forex_Europe[\"SPREAD\"]),\n",
    "                        \"\",stats.shapiro(forex_Safrica[\"Volume\"]),stats.shapiro(forex_Safrica[\"Spread\"]),\n",
    "                       \"\",stats.shapiro(forex_Australia[\"Volume\"]),stats.shapiro(forex_Australia[\"Spread\"]),\n",
    "                       \"\",stats.shapiro(forex_Chile[\"Volume\"]),stats.shapiro(forex_Chile[\"Spread\"])],index=pays)\n",
    "\n",
    "study = pd.DataFrame({ \"N\":Nonbre  ,\"Kurtosis\" :Z_test,\"Skewness\":Z_tee, \"Mean\":Z, \n",
    "                      \"Std\":X, \"Bera-Jarque \": normajb, \"Shapiro\":normashap})\n",
    "\n",
    "\n",
    "# Covertion de notre fichier final au format excel\n",
    "x = \"C:/Users/dell/Desktop/Nouveau dossier/MASTER 2021 2023/M2IFM/S2M2/MEMOIRE/DATA/\"\n",
    "\n",
    "study.to_excel(x+\"studystatSs.xlsx\",sheet_name=\"study_BresultSs\")\n",
    "study "
   ]
  },
  {
   "cell_type": "markdown",
   "id": "e5187291",
   "metadata": {},
   "source": [
    "# Partie 5 : EMPIRICAL ANALYSES  "
   ]
  },
  {
   "cell_type": "code",
   "execution_count": null,
   "id": "829b972b",
   "metadata": {},
   "outputs": [],
   "source": []
  },
  {
   "cell_type": "code",
   "execution_count": null,
   "id": "e509dece",
   "metadata": {},
   "outputs": [],
   "source": []
  },
  {
   "cell_type": "code",
   "execution_count": null,
   "id": "a1668d48",
   "metadata": {},
   "outputs": [],
   "source": []
  },
  {
   "cell_type": "markdown",
   "id": "3aefe078",
   "metadata": {},
   "source": [
    "### 1 -Studying series stationarity\n"
   ]
  },
  {
   "cell_type": "markdown",
   "id": "cd3de33d",
   "metadata": {},
   "source": [
    "#### a- EUROPA Forex Volume stationarity"
   ]
  },
  {
   "cell_type": "code",
   "execution_count": null,
   "id": "0b959571",
   "metadata": {},
   "outputs": [],
   "source": [
    "# Nous introduisons un mouvement brownien exponentiel afin de simplifier ce graphyque précédent pas clair\n",
    "forexoni1 = forexoni\n",
    "fig, ax = plt.subplots(figsize=(16,4))\n",
    "plt.plot(forexoni1['DATE'], \n",
    "        forexoni1['EUROPA'].ewm(span = 100, adjust=False).mean(), color = 'black', label ='EUROPA VOLUME') # nous supposons que le smooth =100 par an\n",
    "plt.title('EUROPA FOREX Volume from 2001 to 2012')\n",
    "plt.legend ()\n",
    "plt.grid()\n",
    "plt.show()"
   ]
  },
  {
   "cell_type": "markdown",
   "id": "702da015",
   "metadata": {},
   "source": [
    "### Europa Forex volume series breakdown "
   ]
  },
  {
   "cell_type": "markdown",
   "id": "d018680d",
   "metadata": {},
   "source": [
    "Decomposing the europa volume series is a statistical task that allows us to deconstruct the series into several components,\n",
    "each representing one of the underlying model categories\n",
    "We'll be able to see the trend, seasonal and residual components of our data."
   ]
  },
  {
   "cell_type": "code",
   "execution_count": null,
   "id": "fa291f13",
   "metadata": {},
   "outputs": [],
   "source": [
    "# Besoin de statsmodels nous l'importons donc. Il utilise Seasonal decomposition using moving averages.\n",
    "import statsmodels.api as sm  "
   ]
  },
  {
   "cell_type": "code",
   "execution_count": null,
   "id": "458b0b65",
   "metadata": {},
   "outputs": [],
   "source": [
    "#Calcul de la fréquence ou \"period\"\n",
    "hour = (24*60)\n",
    "minu = 15\n",
    "days = 7\n",
    "decompfreq = (hour/minu)*days\n",
    "decompfreq"
   ]
  },
  {
   "cell_type": "markdown",
   "id": "7072b07c",
   "metadata": {},
   "source": [
    "### Series seasonal adjustment"
   ]
  },
  {
   "cell_type": "code",
   "execution_count": null,
   "id": "85f4b7fc",
   "metadata": {},
   "outputs": [],
   "source": [
    "# Observation du Trend, saisonnalité et les résidus\n",
    "rcParams['figure.figsize'] = 18,6\n",
    "decomposition = sm.tsa.seasonal_decompose(forexoni1.EUROPA.interpolate(),period=6, model='additive')\n",
    "fig = decomposition.plot()\n",
    "plt.show()"
   ]
  },
  {
   "cell_type": "code",
   "execution_count": null,
   "id": "206022a0",
   "metadata": {},
   "outputs": [],
   "source": [
    "import matplotlib.dates as mdates"
   ]
  },
  {
   "cell_type": "code",
   "execution_count": null,
   "id": "0e1630d3",
   "metadata": {},
   "outputs": [],
   "source": [
    "# Ajout du trend au volume\n",
    "fig, ax = plt.subplots(figsize = (16,8))\n",
    "ax.grid=(True)\n",
    "\n",
    "year = mdates.YearLocator(month=1)\n",
    "month = mdates.MonthLocator(interval=3)\n",
    "year_format = mdates.DateFormatter (\"%Y\")\n",
    "month_format = mdates.DateFormatter (\"%m\")\n",
    "\n",
    "ax.xaxis.set_minor_locator(month)\n",
    "\n",
    "ax.xaxis.grid(True, which= \"minor\")\n",
    "ax.xaxis.set_major_locator(year)\n",
    "ax.xaxis.set_major_formatter(year_format)\n",
    "\n",
    "plt.plot(forexoni1.index, forexoni1['EUROPA'], c='black')\n",
    "plt.plot(decomposition.trend.index, decomposition.trend, c='red')"
   ]
  },
  {
   "cell_type": "markdown",
   "id": "b589e200",
   "metadata": {},
   "source": [
    "### Stationarity study "
   ]
  },
  {
   "cell_type": "raw",
   "id": "63d22e18",
   "metadata": {},
   "source": [
    "We use several tests to study sationnarity.\n",
    "\n",
    "ACF&PACF GRAPHS: if the series is stationary: the ACF/PACF plots will show a rapid fall in correlation\n",
    "after a slight shift between points.\n",
    "\n",
    "Plotting Rolling Statistics: we can plot the moving average or moving variance and see if it varies over time.\n",
    "The moving average/variance is, for an instant \"t\", the average/variance for the last year, i.e. the last 12 months.\n",
    "\n",
    "Augmented Dickey Fuller test: \n",
    "    H0 : TS is non-stationary \n",
    "    h1: TS is stationary\n",
    "    Decision rule: if the \"test statistic\" is < the \"critical value\", we can reject the null hypothesis and say that \n",
    "    that the series is stationary. \n"
   ]
  },
  {
   "cell_type": "markdown",
   "id": "e95276f3",
   "metadata": {},
   "source": [
    "#### a- Graphs ACF / PACF"
   ]
  },
  {
   "cell_type": "code",
   "execution_count": null,
   "id": "5abd5a8c",
   "metadata": {},
   "outputs": [],
   "source": [
    "# autocorrelation\n",
    "pyplot.figure(figsize = (15,6))\n",
    "pyplot.subplot(211)\n",
    "plot_acf(forexoni1.EUROPA, ax = pyplot.gca(), lags= 30)\n",
    "pyplot.subplot(212)\n",
    "plot_pacf(forexoni1.EUROPA, ax = pyplot.gca(), lags= 30)\n",
    "pyplot.show()"
   ]
  },
  {
   "cell_type": "raw",
   "id": "ef3a5722",
   "metadata": {},
   "source": [
    "Interpretation: \n",
    "    -These data are not stationary because a large number of past observations are correlated with future values.\n",
    "    Confidence intervals are cone-shaped.\n",
    "    By default, this is defined as a 95% confidence interval, which suggests that correlations outside this code are most likely correlation and not correlation.\n",
    "    are most likely correlation and not statistical chance.\n",
    "    Partial autocorrelation at the k-shift is the correlation that results after removing the effect of any correlation \n",
    "    due to terms with shifts between the two values."
   ]
  },
  {
   "cell_type": "markdown",
   "id": "8e8dcdb1",
   "metadata": {},
   "source": [
    "### c-  Dickey Fuller Test \n"
   ]
  },
  {
   "cell_type": "markdown",
   "id": "c20ba40e",
   "metadata": {},
   "source": [
    "#### EUROPE DATA"
   ]
  },
  {
   "cell_type": "code",
   "execution_count": null,
   "id": "39ebb8f7",
   "metadata": {},
   "outputs": [],
   "source": [
    "def dickey_fuller(series,title='forex_Europe'):\n",
    "    '''Hypothesis Test for stationarity '''\n",
    "    print(f'Augmented Dickey Fuller Test for the dataset {\"FOREX EUROPE VOLUME\"}')\n",
    "    \n",
    "    result = adfuller(series.dropna(),autolag='AIC')\n",
    "    labels = ['ADF test statistics','p-value','#lags','#observations'] # use help(adfuller) to understand why these labels are chosen\n",
    "    \n",
    "    outcome = pd.Series(result[0:4],index=labels)\n",
    "    \n",
    "    for key,val in result[4].items():\n",
    "        outcome[f'critical value ({key})'] = val\n",
    "        \n",
    "    print(outcome.to_string()) # this will not print the line 'dtype:float64'\n",
    "    \n",
    "    if result[1] <= 0.05:\n",
    "        print('Strong evidence against the null hypothesis') # Ho is Data is not stationary, check help(adfuller)\n",
    "        print('Reject the null hypothesis')\n",
    "        print('Data is Stationary')\n",
    "    else:\n",
    "        print('Weak evidence against the Null hypothesis')\n",
    "        print('Fail to reject the null hypothesis')\n",
    "        print('Data has a unit root and is non stationary')"
   ]
  },
  {
   "cell_type": "code",
   "execution_count": null,
   "id": "dc84196f",
   "metadata": {},
   "outputs": [],
   "source": [
    "dickey_fuller(forex_Europe.LnVOLUME,title='EUROPAFOREX VOLUME')"
   ]
  },
  {
   "cell_type": "markdown",
   "id": "548aaed0",
   "metadata": {},
   "source": [
    "Interprétation : \n",
    "    Test Statistic = -1.108431 > T-lu =-2.882266 (valeur critique à 5%). De plus la p-value (0.709640) >0.05\n",
    "    Nous ne rejetons pas l'hypothèse nulle : la série est non stationnaire et donc présente une racine unitaire."
   ]
  },
  {
   "cell_type": "code",
   "execution_count": null,
   "id": "bcc18ad3",
   "metadata": {},
   "outputs": [],
   "source": [
    "dickey_fuller(forex_Europe.ONI,title='ONI')"
   ]
  },
  {
   "cell_type": "code",
   "execution_count": null,
   "id": "09a2d39b",
   "metadata": {},
   "outputs": [],
   "source": [
    "dickey_fuller(forex_Europe['SPREAD'],title=\"SPREAD\")"
   ]
  },
  {
   "cell_type": "markdown",
   "id": "117ba6c4",
   "metadata": {},
   "source": [
    "So both the EUROPA Lnvolume and the ONI is non stationary. We will take the first order difference of the entire dataframe and re-run the dickey fuller test and store it in a separate dataframe so that the original dataframe is retained."
   ]
  },
  {
   "cell_type": "markdown",
   "id": "870a82a4",
   "metadata": {},
   "source": [
    "##### Rendons la série EUROPA VOLUME de forex stationnaire "
   ]
  },
  {
   "cell_type": "code",
   "execution_count": null,
   "id": "77889bff",
   "metadata": {},
   "outputs": [],
   "source": [
    "# Différenciation de la série Lnvolume\n",
    "forex_Europe[\"LnVolume_diff\"] = forex_Europe[\"LnVOLUME\"].diff()\n",
    "forex_Europe[\"ONI_diff\"] = forex_Europe[\"ONI\"].diff()\n",
    "forex_Europe[\"SPREAD_diff\"] = forex_Europe[\"SPREAD\"].diff()"
   ]
  },
  {
   "cell_type": "code",
   "execution_count": null,
   "id": "613e04cd",
   "metadata": {},
   "outputs": [],
   "source": [
    "dickey_fuller(forex_Europe['LnVolume_diff'],title='FOREX EUROPE VOLUME 1st Order Diff')"
   ]
  },
  {
   "cell_type": "code",
   "execution_count": null,
   "id": "2e0e9f63",
   "metadata": {},
   "outputs": [],
   "source": [
    "dickey_fuller(forex_Europe['ONI_diff'],title=\"ONI_diff 1st Order Diff\")"
   ]
  },
  {
   "cell_type": "code",
   "execution_count": null,
   "id": "bfee7218",
   "metadata": {},
   "outputs": [],
   "source": [
    "dickey_fuller(forex_Europe['SPREAD_diff'],title=\"SPREAD_diff 1st Order Diff\")"
   ]
  },
  {
   "cell_type": "code",
   "execution_count": null,
   "id": "37ff2ad2",
   "metadata": {},
   "outputs": [],
   "source": [
    "plt.figure(figsize=(12,6))\n",
    "ice, = plt.plot(forex_Europe['LnVolume_diff'],\"purple\")\n",
    "heat, = plt.plot(forex_Europe['ONI_diff'], color='green')\n",
    "Sp, = plt.plot(forex_Europe['SPREAD_diff'], color='yellow')\n",
    "\n",
    "plt.axhline(0, linestyle='--', color='b', alpha=0.3)\n",
    "plt.ylabel('First Difference', fontsize=18)\n",
    "\n",
    "plt.legend(['LnVolume_diff', 'ONI_diff','SPREAD_diff'], fontsize=16)"
   ]
  },
  {
   "cell_type": "markdown",
   "id": "09e550ce",
   "metadata": {},
   "source": [
    "European froex volume, Spread, ONI are stationary after initial differentiation "
   ]
  },
  {
   "cell_type": "markdown",
   "id": "a1d73db0",
   "metadata": {},
   "source": [
    "#### b- SOUTH AFRICA FOREX Volume stationarity"
   ]
  },
  {
   "cell_type": "code",
   "execution_count": null,
   "id": "85c342aa",
   "metadata": {},
   "outputs": [],
   "source": [
    "def dickey_fuller(series,title='South Africa'):\n",
    "    '''Hypothesis Test for stationarity '''\n",
    "    print(f'Augmented Dickey Fuller Test for the dataset')\n",
    "    \n",
    "    result = adfuller(series.dropna(),autolag='AIC')\n",
    "    labels = ['ADF test statistics','p-value','#lags','#observations'] # use help(adfuller) to understand why these labels are chosen\n",
    "    \n",
    "    outcome = pd.Series(result[0:4],index=labels)\n",
    "    \n",
    "    for key,val in result[4].items():\n",
    "        outcome[f'critical value ({key})'] = val\n",
    "        \n",
    "    print(outcome.to_string()) # this will not print the line 'dtype:float64'\n",
    "    \n",
    "    if result[1] <= 0.05:\n",
    "        print('Strong evidence against the null hypothesis') # Ho is Data is not stationary, check help(adfuller)\n",
    "        print('Reject the null hypothesis')\n",
    "        print('Data is Stationary')\n",
    "    else:\n",
    "        print('Weak evidence against the Null hypothesis')\n",
    "        print('Fail to reject the null hypothesis')\n",
    "        print('Data has a unit root and is non stationary')"
   ]
  },
  {
   "cell_type": "code",
   "execution_count": null,
   "id": "a51ba5ed",
   "metadata": {},
   "outputs": [],
   "source": [
    "dickey_fuller(forex_Safrica.LnVolume,title='SAFRICAFOREX VOLUME')"
   ]
  },
  {
   "cell_type": "code",
   "execution_count": null,
   "id": "3a6ee725",
   "metadata": {},
   "outputs": [],
   "source": [
    "dickey_fuller(forex_Safrica['Spread'],title=\"SPREAD\")"
   ]
  },
  {
   "cell_type": "code",
   "execution_count": null,
   "id": "544002be",
   "metadata": {},
   "outputs": [],
   "source": [
    "# Différenciation première de la série Lnvolume\n",
    "forex_Safrica[\"LnVolume_diff\"] = forex_Safrica[\"LnVolume\"].diff()\n",
    "forex_Safrica[\"SPREAD_diff\"] =   forex_Safrica[\"Spread\"].diff()"
   ]
  },
  {
   "cell_type": "code",
   "execution_count": null,
   "id": "720b8d37",
   "metadata": {},
   "outputs": [],
   "source": [
    "dickey_fuller(forex_Safrica['SPREAD_diff'],title=\"SPREAD_diff 1st Order Diff\")\n",
    "print('..........')\n",
    "dickey_fuller(forex_Safrica['LnVolume_diff'],title='FOREX EUROPE VOLUME 1st Order Diff')"
   ]
  },
  {
   "cell_type": "code",
   "execution_count": null,
   "id": "564c0a15",
   "metadata": {},
   "outputs": [],
   "source": [
    "# Différenciation seconde de la série Lnvolume\n",
    "forex_Safrica[\"LnVolume_diff2\"] = forex_Safrica[\"LnVolume_diff\"].diff()\n",
    "dickey_fuller(forex_Safrica['LnVolume_diff2'],title='FOREX EUROPE VOLUME 1st Order Diff')"
   ]
  },
  {
   "cell_type": "markdown",
   "id": "236fe4c2",
   "metadata": {},
   "source": [
    "South african froex volume is stationary after two differentiation while de spread is stationnary after one differenciation "
   ]
  },
  {
   "cell_type": "markdown",
   "id": "e1f299eb",
   "metadata": {},
   "source": [
    "#### c- Australia FOREX Volume stationarity"
   ]
  },
  {
   "cell_type": "code",
   "execution_count": null,
   "id": "517915a5",
   "metadata": {},
   "outputs": [],
   "source": [
    "# Différenciation première de la série Lnvolume\n",
    "forex_Australia[\"LnVolume_diff\"] = forex_Australia[\"LnVolume\"].diff()\n",
    "forex_Australia[\"SPREAD_diff\"] =   forex_Australia[\"Spread\"].diff()"
   ]
  },
  {
   "cell_type": "code",
   "execution_count": null,
   "id": "d6587c6a",
   "metadata": {},
   "outputs": [],
   "source": [
    "dickey_fuller(forex_Australia['LnVolume_diff'],title='FOREX EUROPE VOLUME 1st Order Diff')\n",
    "print('..........')\n",
    "print('..........')\n",
    "dickey_fuller(forex_Australia['SPREAD_diff'],title=\"SPREAD_diff 1st Order Diff\")\n",
    "\n"
   ]
  },
  {
   "cell_type": "markdown",
   "id": "87e91d40",
   "metadata": {},
   "source": [
    "Australian froex volume and spread are stationary after initial differentiation "
   ]
  },
  {
   "cell_type": "markdown",
   "id": "2cb2b581",
   "metadata": {},
   "source": [
    "#### d- CHILE FOREX Volume stationarity"
   ]
  },
  {
   "cell_type": "code",
   "execution_count": null,
   "id": "078a3979",
   "metadata": {},
   "outputs": [],
   "source": [
    "# Différenciation première de la série Lnvolume\n",
    "forex_Chile[\"LnVolume_diff\"] = forex_Chile[\"LnVolume\"].diff()\n",
    "forex_Chile[\"SPREAD_diff\"] =   forex_Chile[\"Spread\"].diff()\n"
   ]
  },
  {
   "cell_type": "code",
   "execution_count": null,
   "id": "042519a4",
   "metadata": {},
   "outputs": [],
   "source": [
    "dickey_fuller(forex_Chile['LnVolume_diff'],title='FOREX CHILE VOLUME 1st Order Diff')\n",
    "print('..........')\n",
    "print('..........')\n",
    "dickey_fuller(forex_Chile['SPREAD_diff'],title=\"SPREAD_diff 1st Order Diff\")\n"
   ]
  },
  {
   "cell_type": "markdown",
   "id": "99afed23",
   "metadata": {},
   "source": [
    "Chilean froex volume is stationary after initial differentiations"
   ]
  },
  {
   "cell_type": "code",
   "execution_count": null,
   "id": "36be4900",
   "metadata": {},
   "outputs": [],
   "source": [
    "###  - Données AUSTRALIA\n",
    "austra = pd.read_excel(path+\"dataextractreg_.xlsx\",sheet_name=\"Australia_set\")\n",
    "###  - Données chile\n",
    "chil = pd.read_excel(path+\"dataextractreg_.xlsx\",sheet_name=\"Chile_set\")\n",
    "###  - Données South africa\n",
    "safri = pd.read_excel(path+\"dataextractreg_.xlsx\",sheet_name=\"Safrica_set\")\n",
    "###  - Données Europa\n",
    "euro = pd.read_excel(path+\"dataextractreg_.xlsx\",sheet_name=\"Europa_set\")"
   ]
  },
  {
   "cell_type": "code",
   "execution_count": null,
   "id": "96ada524",
   "metadata": {},
   "outputs": [],
   "source": []
  },
  {
   "cell_type": "code",
   "execution_count": null,
   "id": "82354dfe",
   "metadata": {},
   "outputs": [],
   "source": []
  },
  {
   "cell_type": "code",
   "execution_count": null,
   "id": "a6353368",
   "metadata": {},
   "outputs": [],
   "source": []
  },
  {
   "cell_type": "code",
   "execution_count": null,
   "id": "73e1ed86",
   "metadata": {},
   "outputs": [],
   "source": []
  },
  {
   "cell_type": "markdown",
   "id": "ffea28a6",
   "metadata": {},
   "source": [
    "## Partie 6 : Etudes Econométriques"
   ]
  },
  {
   "cell_type": "code",
   "execution_count": null,
   "id": "bc195a6f",
   "metadata": {
    "scrolled": true
   },
   "outputs": [],
   "source": [
    "# Report differenciation values \n",
    "forex_Europe[\"Vol_FEurope\"]        = forex_Europe[\"LnVOLUME\"].diff()\n",
    "forex_Safrica [\"Vol_FSAfrica\"]     = forex_Safrica[\"LnVolume\"].diff(2)\n",
    "forex_Chile[\"Vol_FChile\"]          = forex_Chile [\"LnVolume\"].diff()\n",
    "forex_Australia [\"Vol_FAustralia\"] = forex_Australia [\"LnVolume\"].diff()"
   ]
  },
  {
   "cell_type": "code",
   "execution_count": null,
   "id": "2959f330",
   "metadata": {},
   "outputs": [],
   "source": [
    "#Delating na\n",
    "forex_Europe.dropna()\n",
    "forex_Safrica.dropna()\n",
    "forex_Chile.dropna()\n",
    "forex_Australia.dropna()\n"
   ]
  },
  {
   "cell_type": "markdown",
   "id": "54870971",
   "metadata": {},
   "source": [
    "## CREATION DES DUMMIES"
   ]
  },
  {
   "cell_type": "code",
   "execution_count": null,
   "id": "4dbf1855",
   "metadata": {},
   "outputs": [],
   "source": [
    "#### EUROPA  CREATION DES DUMMIES de Year\n",
    "\n",
    "forex_Europe[\"year2001\"]  =np.where((forex_Europe[\"Year\"] ==2001),\"1\",\"0\")\n",
    "forex_Europe[\"year2002\"]  =np.where((forex_Europe[\"Year\"] ==2002),\"1\",\"0\")\n",
    "forex_Europe[\"year2003\"]  =np.where((forex_Europe[\"Year\"] ==2003),\"1\",\"0\")\n",
    "forex_Europe[\"year2004\"]  =np.where((forex_Europe[\"Year\"] ==2004),\"1\",\"0\")\n",
    "forex_Europe[\"year2005\"]  =np.where((forex_Europe[\"Year\"] ==2005),\"1\",\"0\")\n",
    "forex_Europe[\"year2006\"]  =np.where((forex_Europe[\"Year\"] ==2006),\"1\",\"0\")\n",
    "forex_Europe[\"year2007\"]  =np.where((forex_Europe[\"Year\"] ==2007),\"1\",\"0\")\n",
    "forex_Europe[\"year2008\"]  =np.where((forex_Europe[\"Year\"] ==2008),\"1\",\"0\")\n",
    "forex_Europe[\"year2009\"]  =np.where((forex_Europe[\"Year\"] ==2009),\"1\",\"0\")\n",
    "forex_Europe[\"year2010\"]  =np.where((forex_Europe[\"Year\"] ==2010),\"1\",\"0\")\n",
    "forex_Europe[\"year2011\"]  =np.where((forex_Europe[\"Year\"] ==2011),\"1\",\"0\")\n",
    "forex_Europe[\"year2012\"]  =np.where((forex_Europe[\"Year\"] ==2012),\"1\",\"0\")\n",
    "\n",
    "# CREATION DES DUMMIES du monthname\n",
    "forex_Europe[\"JANUARY\"]   =np.where((forex_Europe[\"Monthname\"] ==\"January\"),\"1\",\"0\")\n",
    "forex_Europe[\"FEBRUARY\"]  =np.where((forex_Europe[\"Monthname\"] ==\"February\"),\"1\",\"0\")\n",
    "forex_Europe[\"MARCH\"]     =np.where((forex_Europe[\"Monthname\"] ==\"March\"),\"1\",\"0\")\n",
    "forex_Europe[\"APRIL\"]     =np.where((forex_Europe[\"Monthname\"] ==\"April\"),\"1\",\"0\")\n",
    "forex_Europe[\"MAY\"]       =np.where((forex_Europe[\"Monthname\"] ==\"May\"),\"1\",\"0\")\n",
    "forex_Europe[\"JUNE\"]      =np.where((forex_Europe[\"Monthname\"] ==\"June\"),\"1\",\"0\")\n",
    "forex_Europe[\"JULY\"]      =np.where((forex_Europe[\"Monthname\"] ==\"July\"),\"1\",\"0\")\n",
    "forex_Europe[\"AUGUST\"]    =np.where((forex_Europe[\"Monthname\"] ==\"August\"),\"1\",\"0\")\n",
    "forex_Europe[\"SEPTEMBER\"] =np.where((forex_Europe[\"Monthname\"] ==\"September\"),\"1\",\"0\")\n",
    "forex_Europe[\"OCTOBER\"]   =np.where((forex_Europe[\"Monthname\"] ==\"October\"),\"1\",\"0\")\n",
    "forex_Europe[\"NOVEMBER\"]  =np.where((forex_Europe[\"Monthname\"] ==\"November\"),\"1\",\"0\")\n",
    "forex_Europe[\"DECEMBER\"]  =np.where((forex_Europe[\"Monthname\"] ==\"December\"),\"1\",\"0\")\n"
   ]
  },
  {
   "cell_type": "code",
   "execution_count": null,
   "id": "2b9d2d63",
   "metadata": {},
   "outputs": [],
   "source": [
    "#### SOUTH AFRICA  CREATION DES DUMMIES de Year\n",
    "\n",
    "forex_Safrica[\"year2001\"]  =np.where((forex_Safrica[\"Year\"] ==2001),\"1\",\"0\")\n",
    "forex_Safrica[\"year2002\"]  =np.where((forex_Safrica[\"Year\"] ==2002),\"1\",\"0\")\n",
    "forex_Safrica[\"year2003\"]  =np.where((forex_Safrica[\"Year\"] ==2003),\"1\",\"0\")\n",
    "forex_Safrica[\"year2004\"]  =np.where((forex_Safrica[\"Year\"] ==2004),\"1\",\"0\")\n",
    "forex_Safrica[\"year2005\"]  =np.where((forex_Safrica[\"Year\"] ==2005),\"1\",\"0\")\n",
    "forex_Safrica[\"year2006\"]  =np.where((forex_Safrica[\"Year\"] ==2006),\"1\",\"0\")\n",
    "forex_Safrica[\"year2007\"]  =np.where((forex_Safrica[\"Year\"] ==2007),\"1\",\"0\")\n",
    "forex_Safrica[\"year2008\"]  =np.where((forex_Safrica[\"Year\"] ==2008),\"1\",\"0\")\n",
    "forex_Safrica[\"year2009\"]  =np.where((forex_Safrica[\"Year\"] ==2009),\"1\",\"0\")\n",
    "forex_Safrica[\"year2010\"]  =np.where((forex_Safrica[\"Year\"] ==2010),\"1\",\"0\")\n",
    "forex_Safrica[\"year2011\"]  =np.where((forex_Safrica[\"Year\"] ==2011),\"1\",\"0\")\n",
    "forex_Safrica[\"year2012\"]  =np.where((forex_Safrica[\"Year\"] ==2012),\"1\",\"0\")\n",
    "\n",
    "# CREATION DES DUMMIES du monthname\n",
    "forex_Safrica[\"JANUARY\"]   =np.where((forex_Safrica[\"Monthname\"] ==\"January\"),\"1\",\"0\")\n",
    "forex_Safrica[\"FEBRUARY\"]  =np.where((forex_Safrica[\"Monthname\"] ==\"February\"),\"1\",\"0\")\n",
    "forex_Safrica[\"MARCH\"]     =np.where((forex_Safrica[\"Monthname\"] ==\"March\"),\"1\",\"0\")\n",
    "forex_Safrica[\"APRIL\"]     =np.where((forex_Safrica[\"Monthname\"] ==\"April\"),\"1\",\"0\")\n",
    "forex_Safrica[\"MAY\"]       =np.where((forex_Safrica[\"Monthname\"] ==\"May\"),\"1\",\"0\")\n",
    "forex_Safrica[\"JUNE\"]      =np.where((forex_Safrica[\"Monthname\"] ==\"June\"),\"1\",\"0\")\n",
    "forex_Safrica[\"JULY\"]      =np.where((forex_Safrica[\"Monthname\"] ==\"July\"),\"1\",\"0\")\n",
    "forex_Safrica[\"AUGUST\"]    =np.where((forex_Safrica[\"Monthname\"] ==\"August\"),\"1\",\"0\")\n",
    "forex_Safrica[\"SEPTEMBER\"] =np.where((forex_Safrica[\"Monthname\"] ==\"September\"),\"1\",\"0\")\n",
    "forex_Safrica[\"OCTOBER\"]   =np.where((forex_Safrica[\"Monthname\"] ==\"October\"),\"1\",\"0\")\n",
    "forex_Safrica[\"NOVEMBER\"]  =np.where((forex_Safrica[\"Monthname\"] ==\"November\"),\"1\",\"0\")\n",
    "forex_Safrica[\"DECEMBER\"]  =np.where((forex_Safrica[\"Monthname\"] ==\"December\"),\"1\",\"0\")"
   ]
  },
  {
   "cell_type": "code",
   "execution_count": null,
   "id": "26cd3c50",
   "metadata": {},
   "outputs": [],
   "source": [
    "#### CHILE  CREATION DES DUMMIES de Year\n",
    "\n",
    "forex_Chile[\"year2001\"]  =np.where((forex_Chile[\"Year\"] ==2001),\"1\",\"0\")\n",
    "forex_Chile[\"year2002\"]  =np.where((forex_Chile[\"Year\"] ==2002),\"1\",\"0\")\n",
    "forex_Chile[\"year2003\"]  =np.where((forex_Chile[\"Year\"] ==2003),\"1\",\"0\")\n",
    "forex_Chile[\"year2004\"]  =np.where((forex_Chile[\"Year\"] ==2004),\"1\",\"0\")\n",
    "forex_Chile[\"year2005\"]  =np.where((forex_Chile[\"Year\"] ==2005),\"1\",\"0\")\n",
    "forex_Chile[\"year2006\"]  =np.where((forex_Chile[\"Year\"] ==2006),\"1\",\"0\")\n",
    "forex_Chile[\"year2007\"]  =np.where((forex_Chile[\"Year\"] ==2007),\"1\",\"0\")\n",
    "forex_Chile[\"year2008\"]  =np.where((forex_Chile[\"Year\"] ==2008),\"1\",\"0\")\n",
    "forex_Chile[\"year2009\"]  =np.where((forex_Chile[\"Year\"] ==2009),\"1\",\"0\")\n",
    "forex_Chile[\"year2010\"]  =np.where((forex_Chile[\"Year\"] ==2010),\"1\",\"0\")\n",
    "forex_Chile[\"year2011\"]  =np.where((forex_Chile[\"Year\"] ==2011),\"1\",\"0\")\n",
    "forex_Chile[\"year2012\"]  =np.where((forex_Chile[\"Year\"] ==2012),\"1\",\"0\")\n",
    "\n",
    "# CREATION DES DUMMIES du monthname\n",
    "forex_Chile[\"JANUARY\"]   =np.where((forex_Chile[\"Monthname\"] ==\"January\"),\"1\",\"0\")\n",
    "forex_Chile[\"FEBRUARY\"]  =np.where((forex_Chile[\"Monthname\"] ==\"February\"),\"1\",\"0\")\n",
    "forex_Chile[\"MARCH\"]     =np.where((forex_Chile[\"Monthname\"] ==\"March\"),\"1\",\"0\")\n",
    "forex_Chile[\"APRIL\"]     =np.where((forex_Chile[\"Monthname\"] ==\"April\"),\"1\",\"0\")\n",
    "forex_Chile[\"MAY\"]       =np.where((forex_Chile[\"Monthname\"] ==\"May\"),\"1\",\"0\")\n",
    "forex_Chile[\"JUNE\"]      =np.where((forex_Chile[\"Monthname\"] ==\"June\"),\"1\",\"0\")\n",
    "forex_Chile[\"JULY\"]      =np.where((forex_Chile[\"Monthname\"] ==\"July\"),\"1\",\"0\")\n",
    "forex_Chile[\"AUGUST\"]    =np.where((forex_Chile[\"Monthname\"] ==\"August\"),\"1\",\"0\")\n",
    "forex_Chile[\"SEPTEMBER\"] =np.where((forex_Chile[\"Monthname\"] ==\"September\"),\"1\",\"0\")\n",
    "forex_Chile[\"OCTOBER\"]   =np.where((forex_Chile[\"Monthname\"] ==\"October\"),\"1\",\"0\")\n",
    "forex_Chile[\"NOVEMBER\"]  =np.where((forex_Chile[\"Monthname\"] ==\"November\"),\"1\",\"0\")\n",
    "forex_Chile[\"DECEMBER\"]  =np.where((forex_Chile[\"Monthname\"] ==\"December\"),\"1\",\"0\")"
   ]
  },
  {
   "cell_type": "code",
   "execution_count": null,
   "id": "d4dc95d9",
   "metadata": {},
   "outputs": [],
   "source": [
    "#### AUSTRALIA  CREATION DES DUMMIES de Year\n",
    "\n",
    "forex_Australia[\"year2001\"]  =np.where((forex_Australia[\"Year\"] ==2001),\"1\",\"0\")\n",
    "forex_Australia[\"year2002\"]  =np.where((forex_Australia[\"Year\"] ==2002),\"1\",\"0\")\n",
    "forex_Australia[\"year2003\"]  =np.where((forex_Australia[\"Year\"] ==2003),\"1\",\"0\")\n",
    "forex_Australia[\"year2004\"]  =np.where((forex_Australia[\"Year\"] ==2004),\"1\",\"0\")\n",
    "forex_Australia[\"year2005\"]  =np.where((forex_Australia[\"Year\"] ==2005),\"1\",\"0\")\n",
    "forex_Australia[\"year2006\"]  =np.where((forex_Australia[\"Year\"] ==2006),\"1\",\"0\")\n",
    "forex_Australia[\"year2007\"]  =np.where((forex_Australia[\"Year\"] ==2007),\"1\",\"0\")\n",
    "forex_Australia[\"year2008\"]  =np.where((forex_Australia[\"Year\"] ==2008),\"1\",\"0\")\n",
    "forex_Australia[\"year2009\"]  =np.where((forex_Australia[\"Year\"] ==2009),\"1\",\"0\")\n",
    "forex_Australia[\"year2010\"]  =np.where((forex_Australia[\"Year\"] ==2010),\"1\",\"0\")\n",
    "forex_Australia[\"year2011\"]  =np.where((forex_Australia[\"Year\"] ==2011),\"1\",\"0\")\n",
    "forex_Australia[\"year2012\"]  =np.where((forex_Australia[\"Year\"] ==2012),\"1\",\"0\")\n",
    "\n",
    "# CREATION DES DUMMIES du monthname\n",
    "forex_Australia[\"JANUARY\"]   =np.where((forex_Australia[\"Monthname\"] ==\"January\"),\"1\",\"0\")\n",
    "forex_Australia[\"FEBRUARY\"]  =np.where((forex_Australia[\"Monthname\"] ==\"February\"),\"1\",\"0\")\n",
    "forex_Australia[\"MARCH\"]     =np.where((forex_Australia[\"Monthname\"] ==\"March\"),\"1\",\"0\")\n",
    "forex_Australia[\"APRIL\"]     =np.where((forex_Australia[\"Monthname\"] ==\"April\"),\"1\",\"0\")\n",
    "forex_Australia[\"MAY\"]       =np.where((forex_Australia[\"Monthname\"] ==\"May\"),\"1\",\"0\")\n",
    "forex_Australia[\"JUNE\"]      =np.where((forex_Australia[\"Monthname\"] ==\"June\"),\"1\",\"0\")\n",
    "forex_Australia[\"JULY\"]      =np.where((forex_Australia[\"Monthname\"] ==\"July\"),\"1\",\"0\")\n",
    "forex_Australia[\"AUGUST\"]    =np.where((forex_Australia[\"Monthname\"] ==\"August\"),\"1\",\"0\")\n",
    "forex_Australia[\"SEPTEMBER\"] =np.where((forex_Australia[\"Monthname\"] ==\"September\"),\"1\",\"0\")\n",
    "forex_Australia[\"OCTOBER\"]   =np.where((forex_Australia[\"Monthname\"] ==\"October\"),\"1\",\"0\")\n",
    "forex_Australia[\"NOVEMBER\"]  =np.where((forex_Australia[\"Monthname\"] ==\"November\"),\"1\",\"0\")\n",
    "forex_Australia[\"DECEMBER\"]  =np.where((forex_Australia[\"Monthname\"] ==\"December\"),\"1\",\"0\")"
   ]
  },
  {
   "cell_type": "markdown",
   "id": "c6845d5e",
   "metadata": {},
   "source": [
    "## OLS MODELS at 0.5 Phases  level "
   ]
  },
  {
   "cell_type": "code",
   "execution_count": null,
   "id": "279b7b1a",
   "metadata": {},
   "outputs": [],
   "source": [
    "## PHASES AT 0.5\n",
    "# EUROPE\n",
    "forex_Europe05=forex_Europe\n",
    "forex_Europe05[\"CoolPhaseLaNina\"]=np.where(forex_Europe05[\"ONI\"]<-0.5,1,0)\n",
    "forex_Europe05[\"WarmPhaseElNino\"]=np.where(forex_Europe05[\"ONI\"]> 0.5,1,0)\n",
    "forex_Europe05[\"Neutralphase\"]=np.where((forex_Europe05[\"ONI\"]>-0.5) & (forex_Europe05[\"ONI\"]<0.5),1,0)\n",
    "# SOUTH AFRICA\n",
    "forex_Safrica05=forex_Safrica\n",
    "forex_Safrica05[\"CoolPhaseLaNina\"]=np.where(forex_Safrica05[\"ONI\"]<-0.5,1,0)\n",
    "forex_Safrica05[\"WarmPhaseElNino\"]=np.where(forex_Safrica05[\"ONI\"]> 0.5,1,0)\n",
    "forex_Safrica05[\"Neutralphase\"]=np.where((forex_Safrica05[\"ONI\"]>-0.5) & (forex_Safrica05[\"ONI\"]<0.5),1,0)\n",
    "# AUSTRALIA\n",
    "forex_Australia05=forex_Australia\n",
    "forex_Australia05[\"CoolPhaseLaNina\"]=np.where(forex_Australia05[\"ONI\"]<-0.5,1,0)\n",
    "forex_Australia05[\"WarmPhaseElNino\"]=np.where(forex_Australia05[\"ONI\"]> 0.5,1,0)\n",
    "forex_Australia05[\"Neutralphase\"]=np.where((forex_Australia05[\"ONI\"]>-0.5) & (forex_Australia05[\"ONI\"]<0.5),1,0)\n",
    "# CHILIE\n",
    "forex_Chile05=forex_Chile\n",
    "forex_Chile05[\"CoolPhaseLaNina\"]=np.where(forex_Chile05[\"ONI\"]<-0.5,1,0)\n",
    "forex_Chile05[\"WarmPhaseElNino\"]=np.where(forex_Chile05[\"ONI\"]> 0.5,1,0)\n",
    "forex_Chile05[\"Neutralphase\"]=np.where((forex_Chile05[\"ONI\"]>-0.5) & (forex_Chile05[\"ONI\"]<0.5),1,0)"
   ]
  },
  {
   "cell_type": "code",
   "execution_count": null,
   "id": "dd32c56d",
   "metadata": {},
   "outputs": [],
   "source": [
    "import statsmodels.formula.api as smf"
   ]
  },
  {
   "cell_type": "code",
   "execution_count": null,
   "id": "7fcffd61",
   "metadata": {},
   "outputs": [],
   "source": [
    "############### EUROPE\n",
    "# Instonction de l'objet régression\n",
    "reg= smf.ols(\"Vol_FEurope ~ CoolPhaseLaNina + WarmPhaseElNino +SPREAD_diff +JANUARY + MARCH + APRIL + MAY + JUNE + JULY + AUGUST + SEPTEMBER + OCTOBER + NOVEMBER + DECEMBER + year2001 + year2002 + year2003 + year2004 + year2006 + year2007 + year2008 + year2009 + year2010 + year2011 + year2012\" ,data = forex_Europe05)\n",
    "# estimation des paramètres \n",
    "res = reg.fit()\n",
    "# afficher les résultats \n",
    "print(res.summary())"
   ]
  },
  {
   "cell_type": "code",
   "execution_count": null,
   "id": "4978da1f",
   "metadata": {
    "scrolled": false
   },
   "outputs": [],
   "source": [
    "############### SOUTH AFRICA\n",
    "# Instonction de l'objet régression\n",
    "reg= smf.ols(\"Vol_FSAfrica ~ CoolPhaseLaNina + WarmPhaseElNino +SPREAD_diff+JANUARY + MARCH + APRIL + MAY + JUNE + JULY + AUGUST + SEPTEMBER + OCTOBER + NOVEMBER + DECEMBER + year2001 + year2002 + year2003 + year2004 + year2006 + year2007 + year2008 + year2009 + year2010 + year2011 + year2012\" ,data = forex_Safrica05)\n",
    "# estimation des paramètres \n",
    "res = reg.fit()\n",
    "# afficher les résultats \n",
    "all = print(res.summary())\n",
    "all"
   ]
  },
  {
   "cell_type": "code",
   "execution_count": null,
   "id": "e772506b",
   "metadata": {},
   "outputs": [],
   "source": [
    "############### AUSTRALIA\n",
    "# Instonction de l'objet régression\n",
    "reg= smf.ols(\"Vol_FAustralia ~ CoolPhaseLaNina + WarmPhaseElNino + SPREAD_diff +JANUARY + MARCH + APRIL + MAY + JUNE + JULY + AUGUST + SEPTEMBER + OCTOBER + NOVEMBER + DECEMBER + year2001 + year2002 + year2003 + year2004 + year2006 + year2007 + year2008 + year2009 + year2010 + year2011 + year2012\" ,data = forex_Australia05)\n",
    "# estimation des paramètres \n",
    "res = reg.fit()\n",
    "# afficher les résultats \n",
    "print(res.summary())"
   ]
  },
  {
   "cell_type": "code",
   "execution_count": null,
   "id": "c252e4cd",
   "metadata": {},
   "outputs": [],
   "source": [
    "############### CHILE\n",
    "# Instonction de l'objet régression\n",
    "reg= smf.ols(\"Vol_FChile ~ CoolPhaseLaNina + WarmPhaseElNino+SPREAD_diff +JANUARY + MARCH + APRIL + MAY + JUNE + JULY + AUGUST + SEPTEMBER + OCTOBER + NOVEMBER + DECEMBER + year2001 + year2002 + year2003 + year2004 + year2006 + year2007 + year2008 + year2009 + year2010 + year2011 + year2012\" ,data = forex_Chile05)\n",
    "# estimation des paramètres \n",
    "res = reg.fit()\n",
    "# afficher les résultats \n",
    "print(res.summary())\n"
   ]
  },
  {
   "cell_type": "markdown",
   "id": "10e99b28",
   "metadata": {},
   "source": [
    "## OLS MODELS at level 1 for ONI Phases"
   ]
  },
  {
   "cell_type": "code",
   "execution_count": null,
   "id": "92cea3ae",
   "metadata": {},
   "outputs": [],
   "source": [
    "## PHASES AT 1\n",
    "# EUROPE\n",
    "forex_Europe1=forex_Europe\n",
    "forex_Europe1[\"CoolPhaseLaNina\"]=np.where(forex_Europe1[\"ONI\"]<-1,1,0)\n",
    "forex_Europe1[\"WarmPhaseElNino\"]=np.where(forex_Europe1[\"ONI\"]> 1,1,0)\n",
    "forex_Europe1[\"Neutralphase\"]=np.where((forex_Europe1[\"ONI\"]>-1) & (forex_Europe1[\"ONI\"]<1),1,0)\n",
    "# SOUTH AFRICA\n",
    "forex_Safrica1=forex_Safrica\n",
    "forex_Safrica1[\"CoolPhaseLaNina\"]=np.where(forex_Safrica1[\"ONI\"]<-1,1,0)\n",
    "forex_Safrica1[\"WarmPhaseElNino\"]=np.where(forex_Safrica[\"ONI\"]> 1,1,0)\n",
    "forex_Safrica1[\"Neutralphase\"]=np.where((forex_Safrica1[\"ONI\"]>-1) & (forex_Safrica1[\"ONI\"]<1),1,0)\n",
    "# AUSTRALIA\n",
    "forex_Australia1=forex_Australia\n",
    "forex_Australia1[\"CoolPhaseLaNina\"]=np.where(forex_Australia1[\"ONI\"]<-1,1,0)\n",
    "forex_Australia1[\"WarmPhaseElNino\"]=np.where(forex_Australia1[\"ONI\"]> 1,1,0)\n",
    "forex_Australia1[\"Neutralphase\"]=np.where((forex_Australia1[\"ONI\"]>-1) & (forex_Australia1[\"ONI\"]<1),1,0)\n",
    "# CHILIE\n",
    "forex_Chile1=forex_Chile\n",
    "forex_Chile1[\"CoolPhaseLaNina\"]=np.where(forex_Chile1[\"ONI\"]<-1,1,0)\n",
    "forex_Chile1[\"WarmPhaseElNino\"]=np.where(forex_Chile1[\"ONI\"]> 1,1,0)\n",
    "forex_Chile1[\"Neutralphase\"]=np.where((forex_Chile1[\"ONI\"]>-1) & (forex_Chile1[\"ONI\"]<1),1,0)"
   ]
  },
  {
   "cell_type": "code",
   "execution_count": null,
   "id": "de711170",
   "metadata": {},
   "outputs": [],
   "source": [
    "############### EUROPE\n",
    "# Instonction de l'objet régression\n",
    "reg= smf.ols(\"Vol_FEurope ~ CoolPhaseLaNina + WarmPhaseElNino +SPREAD_diff+ JANUARY + MARCH + APRIL + MAY + JUNE + JULY + AUGUST + SEPTEMBER + OCTOBER + NOVEMBER + DECEMBER + year2001 + year2002 + year2003 + year2004 + year2006 + year2007 + year2008 + year2009 + year2010 + year2011 + year2012\" ,data = forex_Europe1)\n",
    "# estimation des paramètres \n",
    "res = reg.fit()\n",
    "# afficher les résultats \n",
    "print(res.summary())"
   ]
  },
  {
   "cell_type": "code",
   "execution_count": null,
   "id": "34452d8e",
   "metadata": {},
   "outputs": [],
   "source": [
    "############### SOUTH AFRICA\n",
    "# Instonction de l'objet régression\n",
    "reg= smf.ols(\"Vol_FSAfrica ~ CoolPhaseLaNina + WarmPhaseElNino +SPREAD_diff+JANUARY + MARCH + APRIL + MAY + JUNE + JULY + AUGUST + SEPTEMBER + OCTOBER + NOVEMBER + DECEMBER + year2001 + year2002 + year2003 + year2004 + year2006 + year2007 + year2008 + year2009 + year2010 + year2011 + year2012\" ,data = forex_Safrica1)\n",
    "# estimation des paramètres \n",
    "res = reg.fit()\n",
    "# afficher les résultats \n",
    "print(res.summary())"
   ]
  },
  {
   "cell_type": "code",
   "execution_count": null,
   "id": "df47ea35",
   "metadata": {},
   "outputs": [],
   "source": [
    "###############  AUSTRALIA\n",
    "# Instonction de l'objet régression\n",
    "reg= smf.ols(\"Vol_FAustralia ~ CoolPhaseLaNina + WarmPhaseElNino +SPREAD_diff+JANUARY + MARCH + APRIL + MAY + JUNE + JULY + AUGUST + SEPTEMBER + OCTOBER + NOVEMBER + DECEMBER + year2001 + year2002 + year2003 + year2004 + year2006 + year2007 + year2008 + year2009 + year2010 + year2011 + year2012\" ,data = forex_Australia1)\n",
    "# estimation des paramètres \n",
    "res = reg.fit()\n",
    "# afficher les résultats \n",
    "print(res.summary())"
   ]
  },
  {
   "cell_type": "code",
   "execution_count": null,
   "id": "ddbd1c5d",
   "metadata": {},
   "outputs": [],
   "source": [
    "############### CHILE\n",
    "# Instonction de l'objet régression\n",
    "reg= smf.ols(\"Vol_FChile ~ CoolPhaseLaNina + WarmPhaseElNino +SPREAD_diff+JANUARY + MARCH + APRIL + MAY + JUNE + JULY + AUGUST + SEPTEMBER + OCTOBER + NOVEMBER + DECEMBER + year2001 + year2002 + year2003 + year2004 + year2006 + year2007 + year2008 + year2009 + year2010 + year2011 + year2012\" ,data = forex_Chile1)\n",
    "# estimation des paramètres \n",
    "res = reg.fit()\n",
    "# afficher les résultats \n",
    "print(res.summary())\n"
   ]
  },
  {
   "cell_type": "markdown",
   "id": "e295265c",
   "metadata": {},
   "source": [
    "## OLS MODELS at 1.5 Phases  level "
   ]
  },
  {
   "cell_type": "code",
   "execution_count": null,
   "id": "10c92ffa",
   "metadata": {},
   "outputs": [],
   "source": [
    "## PHASES AT 1.5\n",
    "# EUROPE\n",
    "forex_Europe15=forex_Europe\n",
    "forex_Europe15[\"CoolPhaseLaNina\"]=np.where(forex_Europe15[\"ONI\"]<-1.5,1,0)\n",
    "forex_Europe15[\"WarmPhaseElNino\"]=np.where(forex_Europe15[\"ONI\"]> 1.5,1,0)\n",
    "forex_Europe15[\"Neutralphase\"]=np.where((forex_Europe15[\"ONI\"]>-1.5) & (forex_Europe15[\"ONI\"]<1.5),1,0)\n",
    "# SOUTH AFRICA\n",
    "forex_Safrica15=forex_Safrica\n",
    "forex_Safrica15[\"CoolPhaseLaNina\"]=np.where(forex_Safrica15[\"ONI\"]<-1.5,1,0)\n",
    "forex_Safrica15[\"WarmPhaseElNino\"]=np.where(forex_Safrica15[\"ONI\"]> 1.5,1,0)\n",
    "forex_Safrica15[\"Neutralphase\"]=np.where((forex_Safrica15[\"ONI\"]>-1.5) & (forex_Safrica15[\"ONI\"]<1.5),1,0)\n",
    "# AUSTRALIA\n",
    "forex_Australia15=forex_Australia\n",
    "forex_Australia15[\"CoolPhaseLaNina\"]=np.where(forex_Australia15[\"ONI\"]<-1.5,1,0)\n",
    "forex_Australia15[\"WarmPhaseElNino\"]=np.where(forex_Australia15[\"ONI\"]> 1.5,1,0)\n",
    "forex_Australia15[\"Neutralphase\"]=np.where((forex_Australia15[\"ONI\"]>-1.5) & (forex_Australia15[\"ONI\"]<1.5),1,0)\n",
    "# CHILIE\n",
    "forex_Chile15=forex_Chile\n",
    "forex_Chile15[\"CoolPhaseLaNina\"]=np.where(forex_Chile15[\"ONI\"]<-1.5,1,0)\n",
    "forex_Chile15[\"WarmPhaseElNino\"]=np.where(forex_Chile15[\"ONI\"]> 1.5,1,0)\n",
    "forex_Chile15[\"Neutralphase\"]=np.where((forex_Chile15[\"ONI\"]>-1.5) & (forex_Chile15[\"ONI\"]<1.5),1,0)"
   ]
  },
  {
   "cell_type": "code",
   "execution_count": null,
   "id": "c22ab051",
   "metadata": {},
   "outputs": [],
   "source": [
    "############### EUROPE\n",
    "# Instonction de l'objet régression\n",
    "reg= smf.ols(\"Vol_FEurope ~ CoolPhaseLaNina + WarmPhaseElNino +SPREAD_diff+ JANUARY + MARCH + APRIL + MAY + JUNE + JULY + AUGUST + SEPTEMBER + OCTOBER + NOVEMBER + DECEMBER + year2001 + year2002 + year2003 + year2004 + year2006 + year2007 + year2008 + year2009 + year2010 + year2011 + year2012\" ,data = forex_Europe15)\n",
    "# estimation des paramètres \n",
    "res = reg.fit()\n",
    "# afficher les résultats \n",
    "print(res.summary())"
   ]
  },
  {
   "cell_type": "code",
   "execution_count": null,
   "id": "f6df1a55",
   "metadata": {},
   "outputs": [],
   "source": [
    "############### SOUTH AFRICA\n",
    "# Instonction de l'objet régression\n",
    "reg= smf.ols(\"Vol_FSAfrica ~ CoolPhaseLaNina +SPREAD_diff+ WarmPhaseElNino +JANUARY + MARCH + APRIL + MAY + JUNE + JULY + AUGUST + SEPTEMBER + OCTOBER + NOVEMBER + DECEMBER + year2001 + year2002 + year2003 + year2004 + year2006 + year2007 + year2008 + year2009 + year2010 + year2011 + year2012\" ,data = forex_Safrica15)\n",
    "# estimation des paramètres \n",
    "res = reg.fit()\n",
    "# afficher les résultats \n",
    "print(res.summary())"
   ]
  },
  {
   "cell_type": "code",
   "execution_count": null,
   "id": "1b3dfa93",
   "metadata": {},
   "outputs": [],
   "source": [
    "###############  AUSTRALIA\n",
    "# Instonction de l'objet régression\n",
    "reg= smf.ols(\"Vol_FAustralia ~ CoolPhaseLaNina + WarmPhaseElNino +SPREAD_diff+JANUARY + MARCH + APRIL + MAY + JUNE + JULY + AUGUST + SEPTEMBER + OCTOBER + NOVEMBER + DECEMBER + year2001 + year2002 + year2003 + year2004 + year2006 + year2007 + year2008 + year2009 + year2010 + year2011 + year2012\" ,data = forex_Australia15)\n",
    "# estimation des paramètres \n",
    "res = reg.fit()\n",
    "# afficher les résultats \n",
    "print(res.summary())"
   ]
  },
  {
   "cell_type": "code",
   "execution_count": null,
   "id": "98a4c130",
   "metadata": {},
   "outputs": [],
   "source": [
    "############### CHILE\n",
    "# Instonction de l'objet régression\n",
    "reg= smf.ols(\"Vol_FChile ~ CoolPhaseLaNina + WarmPhaseElNino +SPREAD_diff+JANUARY + MARCH + APRIL + MAY + JUNE + JULY + AUGUST + SEPTEMBER + OCTOBER + NOVEMBER + DECEMBER + year2001 + year2002 + year2003 + year2004 + year2006 + year2007 + year2008 + year2009 + year2010 + year2011 + year2012\" ,data = forex_Chile15)\n",
    "# estimation des paramètres \n",
    "res = reg.fit()\n",
    "# afficher les résultats \n",
    "print(res.summary())\n"
   ]
  },
  {
   "cell_type": "markdown",
   "id": "d52ad1da",
   "metadata": {},
   "source": [
    "### COINTEGRATION TEST "
   ]
  },
  {
   "cell_type": "markdown",
   "id": "00817cb8",
   "metadata": {},
   "source": [
    "####  cointégration analyses"
   ]
  },
  {
   "cell_type": "markdown",
   "id": "54682da8",
   "metadata": {},
   "source": [
    "###### europe"
   ]
  },
  {
   "cell_type": "code",
   "execution_count": null,
   "id": "45fd0194",
   "metadata": {},
   "outputs": [],
   "source": [
    "from statsmodels.tsa.vector_ar.vecm import select_coint_rank\n",
    "# rank selection of CoolPhaseLaNina\n",
    "eu_c_ranktest = select_coint_rank (forex_Europe[[\"LnVOLUME\",\"CoolPhaseLaNina\"]], det_order =0, k_ar_diff=3, method=\"trace\",signif =0.05)\n",
    "#  displaying selection rank\n",
    "print('-- rank selection  CoolPhaseLaNina--')\n",
    "print(eu_c_ranktest)\n",
    "print(eu_c_ranktest.rank)\n",
    "\n",
    "# rank selection of CoolPhaseLaNina\n",
    "eu_w_ranktest = select_coint_rank (forex_Europe[[\"LnVOLUME\",\"WarmPhaseElNino\"]], det_order =0, k_ar_diff=3, method=\"trace\",signif =0.05)\n",
    "#  displaying selection rank\n",
    "print('-- rank selection WarmPhaseElNino--')\n",
    "print(eu_w_ranktest)\n",
    "print(eu_w_ranktest.rank)"
   ]
  },
  {
   "cell_type": "code",
   "execution_count": null,
   "id": "73c4bcf4",
   "metadata": {},
   "outputs": [],
   "source": [
    "###### South africa \n",
    "from statsmodels.tsa.vector_ar.vecm import select_coint_rank\n",
    "# rank selection of CoolPhaseLaNina\n",
    "SA_c_ranktest = select_coint_rank (forex_Safrica[[\"LnVolume\",\"CoolPhaseLaNina\"]], det_order =0, k_ar_diff=3, method=\"trace\",signif =0.05)\n",
    "#  displaying selection rank\n",
    "print('-- rank selection  CoolPhaseLaNina--')\n",
    "print(SA_c_ranktest)\n",
    "print(SA_c_ranktest.rank)\n",
    "\n",
    "# rank selection of CoolPhaseLaNina\n",
    "SA_w_ranktest = select_coint_rank (forex_Safrica[[\"LnVolume\",\"WarmPhaseElNino\"]], det_order =1, k_ar_diff=3, method=\"trace\",signif =0.05)\n",
    "#  displaying selection rank\n",
    "print('-- rank selection WarmPhaseElNino--')\n",
    "print(SA_w_ranktest)\n",
    "print(SA_w_ranktest.rank)"
   ]
  },
  {
   "cell_type": "markdown",
   "id": "a9af88fb",
   "metadata": {},
   "source": [
    "##### Australia"
   ]
  },
  {
   "cell_type": "code",
   "execution_count": null,
   "id": "58236706",
   "metadata": {},
   "outputs": [],
   "source": [
    "###### South africa \n",
    "from statsmodels.tsa.vector_ar.vecm import select_coint_rank\n",
    "# rank selection of CoolPhaseLaNina\n",
    "A_c_ranktest = select_coint_rank (forex_Australia[[\"LnVolume\",\"CoolPhaseLaNina\"]], det_order =0, k_ar_diff=3, method=\"trace\",signif =0.05)\n",
    "#  displaying selection rank\n",
    "print('-- rank selection  CoolPhaseLaNina--')\n",
    "print(A_c_ranktest)\n",
    "print(A_c_ranktest.rank)\n",
    "\n",
    "# rank selection of CoolPhaseLaNina\n",
    "A_w_ranktest = select_coint_rank (forex_Australia[[\"LnVolume\",\"WarmPhaseElNino\"]], det_order =0, k_ar_diff=3, method=\"trace\",signif =0.05)\n",
    "#  displaying selection rank\n",
    "print('-- rank selection WarmPhaseElNino--')\n",
    "print(A_w_ranktest)\n",
    "print(A_w_ranktest.rank)"
   ]
  },
  {
   "cell_type": "markdown",
   "id": "24b49cb4",
   "metadata": {},
   "source": [
    "##### Chilie"
   ]
  },
  {
   "cell_type": "code",
   "execution_count": null,
   "id": "a0aee59c",
   "metadata": {},
   "outputs": [],
   "source": [
    "###### South africa \n",
    "from statsmodels.tsa.vector_ar.vecm import select_coint_rank\n",
    "# rank selection of CoolPhaseLaNina\n",
    "C_c_ranktest = select_coint_rank (forex_Chile[[\"LnVolume\",\"CoolPhaseLaNina\"]], det_order =0, k_ar_diff=3, method=\"trace\",signif =0.05)\n",
    "#  displaying selection rank\n",
    "print('-- rank selection  CoolPhaseLaNina--')\n",
    "print(C_c_ranktest)\n",
    "print(C_c_ranktest.rank)\n",
    "\n",
    "# rank selection of CoolPhaseLaNina\n",
    "C_w_ranktest = select_coint_rank (forex_Chile[[\"LnVolume\",\"WarmPhaseElNino\"]], det_order =0, k_ar_diff=3, method=\"trace\",signif =0.05)\n",
    "#  displaying selection rank\n",
    "print('-- rank selection WarmPhaseElNino--')\n",
    "print(C_w_ranktest)\n",
    "print(C_w_ranktest.rank)"
   ]
  },
  {
   "cell_type": "markdown",
   "id": "7ad1fbbb",
   "metadata": {},
   "source": [
    "### MODELE VAR  --> Short-run model "
   ]
  },
  {
   "cell_type": "code",
   "execution_count": null,
   "id": "93f87ebd",
   "metadata": {},
   "outputs": [],
   "source": [
    "plot_pacf(forex_Europe05['LnVOLUME'])\n",
    "plt.show()"
   ]
  },
  {
   "cell_type": "code",
   "execution_count": null,
   "id": "08b95fb3",
   "metadata": {},
   "outputs": [],
   "source": [
    "#correlation between ONI and volume\n",
    "from scipy.stats import pearsonr\n",
    "for lag in range (1,5):\n",
    "    oni_series = forex_Europe1[\"LnVOLUME\"].iloc[lag:]\n",
    "    lagged_volume_series = forex_Europe[\"ONI\"].iloc[:-lag]\n",
    "    print('Lag:%s'%lag)\n",
    "    print(pearsonr(oni_series,lagged_volume_series))\n",
    "    print('............')\n",
    "    "
   ]
  },
  {
   "cell_type": "markdown",
   "id": "0b52eb64",
   "metadata": {},
   "source": [
    "### VAR Model Order Selection"
   ]
  },
  {
   "cell_type": "code",
   "execution_count": null,
   "id": "bd5a5159",
   "metadata": {},
   "outputs": [],
   "source": [
    "from statsmodels.tsa.api import VAR\n",
    "# VAR model \n",
    "forex_Europe_var = forex_Europe[[\"LnVOLUME\",\"SPREAD\", \"CoolPhaseLaNina\" ,\"WarmPhaseElNino\"]]\n",
    "# LAG Selection\n",
    "p = [1,2,3,4,5,6,7]  # try with list of 7 p values\n",
    "\n",
    "for i in  p:\n",
    "    model_europe = VAR(forex_Europe_var)\n",
    "    results = model_europe.fit(i)\n",
    "    print(f'VAR Order {i}')\n",
    "    print('AIC {}'.format(results.aic))\n",
    "    print('BIC {}'.format(results.bic))\n",
    "    print()"
   ]
  },
  {
   "cell_type": "markdown",
   "id": "9bdd3b0d",
   "metadata": {},
   "source": [
    "Order 3 has the least AIC value. Lets select p = 1 in the modeling."
   ]
  },
  {
   "cell_type": "markdown",
   "id": "9322f4ca",
   "metadata": {},
   "source": [
    "#### Fit the VAR(5) model"
   ]
  },
  {
   "cell_type": "code",
   "execution_count": null,
   "id": "2c366887",
   "metadata": {},
   "outputs": [],
   "source": [
    "#model_europe = VAR(forex_Europe_var )\n",
    "#model_Europe_fit = model_Europe.fit(maxlags=5)\n",
    "#model_Europe_fit.summary()\n",
    "results_europe = model_europe.fit(5)\n",
    "results_europe.summary()"
   ]
  },
  {
   "cell_type": "markdown",
   "id": "4527edde",
   "metadata": {},
   "source": [
    "So our final model is :^volume_t = 0.72Lnvolume_t-1 + 0.28Lnvolume_t-3 +Lnvolume_t-8 + 25.55Spread_t-9"
   ]
  },
  {
   "cell_type": "code",
   "execution_count": null,
   "id": "912a2c0a",
   "metadata": {},
   "outputs": [],
   "source": [
    "# VAR model south africa \n",
    "forex_Safrica1_var = forex_Safrica1[[\"LnVolume\",\"Spread\",\"CoolPhaseLaNina\" ,\"WarmPhaseElNino\"]]\n",
    "forex_Safrica1_var = VAR(forex_Safrica1_var )\n",
    "forex_Safrica1_fit = forex_Safrica1_var.fit(maxlags=5)\n",
    "forex_Safrica1_fit.summary()"
   ]
  },
  {
   "cell_type": "code",
   "execution_count": null,
   "id": "e5a2fe88",
   "metadata": {},
   "outputs": [],
   "source": [
    "# VAR model Australia\n",
    "forex_Australia1_var = forex_Australia1[[\"LnVolume\",\"Spread\", \"CoolPhaseLaNina\" ,\"WarmPhaseElNino\"]]\n",
    "forex_Australia1_var = VAR(forex_Australia1_var )\n",
    "forex_Australia1_fit = forex_Australia1_var.fit(maxlags=5)\n",
    "forex_Australia1_fit.summary()"
   ]
  },
  {
   "cell_type": "code",
   "execution_count": null,
   "id": "76aab84e",
   "metadata": {},
   "outputs": [],
   "source": [
    "# VAR model Chile\n",
    "forex_Chile1_var = forex_Chile1[[\"LnVolume\",\"Spread\",\"CoolPhaseLaNina\" ,\"WarmPhaseElNino\"]]\n",
    "forex_Chile1_var = VAR(forex_Chile1_var )\n",
    "forex_Chile1_fit = forex_Chile1_var.fit(maxlags=5)\n",
    "forex_Chile1_fit.summary()"
   ]
  },
  {
   "cell_type": "markdown",
   "id": "add94afc",
   "metadata": {},
   "source": [
    "### Vector Error Correction (VEC) Model"
   ]
  },
  {
   "cell_type": "code",
   "execution_count": null,
   "id": "d628a2eb",
   "metadata": {},
   "outputs": [],
   "source": [
    "### EUROPE"
   ]
  },
  {
   "cell_type": "markdown",
   "id": "57a5ac4f",
   "metadata": {},
   "source": [
    "#### order selection and model estimation "
   ]
  },
  {
   "cell_type": "code",
   "execution_count": null,
   "id": "411c54aa",
   "metadata": {},
   "outputs": [],
   "source": [
    "from statsmodels.tsa.vector_ar.vecm import VECM, select_order\n",
    "# best order selection \n",
    "eu_order = select_order(forex_Europe[[\"LnVOLUME\",\"CoolPhaseLaNina\",\"WarmPhaseElNino\"]].dropna(), maxlags=12, deterministic=\"ci\",seasons=4)\n",
    "eu_order.summary()"
   ]
  },
  {
   "cell_type": "code",
   "execution_count": null,
   "id": "333572aa",
   "metadata": {},
   "outputs": [],
   "source": [
    "### model validation \n",
    "from statsmodels.stats.diagnostic import acorr_ljungbox\n",
    "from statsmodels.graphics.tsaplots import plot_acf\n",
    "\n",
    "# extracting model residuals\n",
    "residuals = euvecm_modelfit.resid\n",
    "# table creation for storing data\n",
    "ljungboxtest_results = pd.DataFrame()\n",
    "\n",
    "for i, column in enumerate(europe_vecm.columns):\n",
    "# Ljung-box test for each lag from 1 to 12    \n",
    "    for lag in range (1, 13) :\n",
    "        ljung_box = acorr_ljungbox(residuals[:,i], lags = [lag], return_df =True)\n",
    "# ajout des résultats au DataFrame\n",
    "        ljungboxtest_results.loc [column, f'lag_{lag}'] =ljung_box['lb_pvalue'].values[0]\n",
    "print (\".......Résultats du test de Ljung_box\")\n",
    "print (ljungboxtest_results)\n",
    "\n",
    "for i, column in enumerate(europe_vecm.columns) : \n",
    "    plt.figure(figsize=(10,5))\n",
    "    plot_acf(residuals[:,i])\n",
    "    plt.title(f'Autocorrelation des résidus pour {column}')\n",
    "    plt.show()"
   ]
  },
  {
   "cell_type": "code",
   "execution_count": null,
   "id": "92390d35",
   "metadata": {},
   "outputs": [],
   "source": [
    "## jarque bera test \n",
    "from scipy.stats import jarque_bera\n",
    "\n",
    "jb_test = jarque_bera (residuals)\n",
    "print ('......test deJarque Bera...')\n",
    "print ('......statistique de test t', jb_test[0])\n",
    "print ('......p-valeur :', jb_test[1])"
   ]
  },
  {
   "cell_type": "code",
   "execution_count": null,
   "id": "8475b74f",
   "metadata": {},
   "outputs": [],
   "source": [
    "# Stability analyses\n",
    "eigenvalues = euvecm_modelfit.alpha@euvecm_modelfit.beta.T\n",
    "print ('----valeurs propres de la matrice de transition')\n",
    "print (eigenvalues)\n"
   ]
  },
  {
   "cell_type": "markdown",
   "id": "9745125d",
   "metadata": {},
   "source": [
    "conclusion : \n",
    "    nous validons notre modèle VECM , il est adapté. poure la série europe"
   ]
  },
  {
   "cell_type": "markdown",
   "id": "2e92aa79",
   "metadata": {},
   "source": [
    "### SOUTH AFRICA"
   ]
  },
  {
   "cell_type": "code",
   "execution_count": null,
   "id": "d48351f8",
   "metadata": {},
   "outputs": [],
   "source": [
    "# Order selection\n",
    "from statsmodels.tsa.vector_ar.vecm import VECM, select_order\n",
    "# best order selection \n",
    "sa_order = select_order(forex_Safrica[[\"LnVolume\",\"CoolPhaseLaNina\",\"WarmPhaseElNino\"]].dropna(), maxlags=12, deterministic=\"ci\",seasons=0)\n",
    "sa_order.summary()\n"
   ]
  },
  {
   "cell_type": "code",
   "execution_count": null,
   "id": "49f805a9",
   "metadata": {},
   "outputs": [],
   "source": [
    "##### Model estimation \n",
    "safrica_vecm = forex_Safrica[[\"LnVolume\",\"CoolPhaseLaNina\",\"WarmPhaseElNino\"]]\n",
    "safrica_model = VECM(safrica_vecm , deterministic = \"ci\", seasons = 0, \n",
    "                   k_ar_diff =sa_order.selected_orders[\"aic\"],# =12\n",
    "                   coint_rank = SA_c_ranktest.rank)# =1\n",
    "safrica_modelfit = safrica_model.fit()\n",
    "safrica_modelfit.summary()"
   ]
  },
  {
   "cell_type": "code",
   "execution_count": null,
   "id": "82b5dbc3",
   "metadata": {},
   "outputs": [],
   "source": [
    "### model validation \n",
    "# extracting model residuals\n",
    "residuals = safrica_modelfit.resid\n",
    "# table creation for storing data\n",
    "ljungboxtest_results = pd.DataFrame()\n",
    "\n",
    "for i, column in enumerate(safrica_vecm.columns):\n",
    "# Ljung-box test for each lag from 1 to 12    \n",
    "    for lag in range (1, 13) :\n",
    "        ljung_box = acorr_ljungbox(residuals[:,i], lags = [lag], return_df =True)\n",
    "# ajout des résultats au DataFrame\n",
    "        ljungboxtest_results.loc [column, f'lag_{lag}'] =ljung_box['lb_pvalue'].values[0]\n",
    "print (\".......Résultats du test de Ljung_box\")\n",
    "print (ljungboxtest_results)\n",
    "\n",
    "for i, column in enumerate(safrica_vecm.columns) : \n",
    "    plt.figure(figsize=(10,5))\n",
    "    plot_acf(residuals[:,i])\n",
    "    plt.title(f'Autocorrelation des résidus pour {column}')\n",
    "    plt.show()"
   ]
  },
  {
   "cell_type": "code",
   "execution_count": null,
   "id": "0af811fb",
   "metadata": {},
   "outputs": [],
   "source": [
    "# Stability analyses\n",
    "eigenvalues =  safrica_modelfit.alpha@euvecm_modelfit.beta.T\n",
    "print ('----valeurs propres de la matrice de transition')\n",
    "print (eigenvalues)\n",
    "\n"
   ]
  },
  {
   "cell_type": "code",
   "execution_count": null,
   "id": "cd2ce79d",
   "metadata": {},
   "outputs": [],
   "source": [
    "## jarque bera test \n",
    "from scipy.stats import jarque_bera\n",
    "\n",
    "jb_test = jarque_bera (residuals)\n",
    "print ('......test deJarque Bera...')\n",
    "print ('......statistique de test t', jb_test[0])\n",
    "print ('......p-valeur :', jb_test[1])"
   ]
  },
  {
   "cell_type": "code",
   "execution_count": null,
   "id": "2d175544",
   "metadata": {},
   "outputs": [],
   "source": []
  },
  {
   "cell_type": "markdown",
   "id": "81fdb5bb",
   "metadata": {},
   "source": [
    "### AUSTRALIA"
   ]
  },
  {
   "cell_type": "code",
   "execution_count": null,
   "id": "d19c2880",
   "metadata": {},
   "outputs": [],
   "source": [
    "# Order selection\n",
    "from statsmodels.tsa.vector_ar.vecm import VECM, select_order\n",
    "# best order selection \n",
    "aust_order = select_order(forex_Australia[[\"LnVolume\",\"CoolPhaseLaNina\",\"WarmPhaseElNino\"]].dropna(), maxlags=12, deterministic=\"ci\",seasons=4)\n",
    "aust_order.summary()\n"
   ]
  },
  {
   "cell_type": "code",
   "execution_count": null,
   "id": "fed34ce3",
   "metadata": {},
   "outputs": [],
   "source": [
    "##### Model estimation \n",
    "aust_vecm = forex_Australia[[\"LnVolume\",\"CoolPhaseLaNina\",\"WarmPhaseElNino\"]]\n",
    "aust_model = VECM(aust_vecm , deterministic = \"ci\", seasons = 0, \n",
    "                   k_ar_diff =aust_order.selected_orders[\"aic\"],# =12\n",
    "                   coint_rank = A_c_ranktest.rank)# =1\n",
    "aust_modelfit = aust_model.fit()\n",
    "aust_modelfit.summary()"
   ]
  },
  {
   "cell_type": "code",
   "execution_count": null,
   "id": "5d3adb10",
   "metadata": {},
   "outputs": [],
   "source": [
    "### CHILE"
   ]
  },
  {
   "cell_type": "code",
   "execution_count": null,
   "id": "047f4d22",
   "metadata": {},
   "outputs": [],
   "source": [
    "# Order selection\n",
    "from statsmodels.tsa.vector_ar.vecm import VECM, select_order\n",
    "# best order selection \n",
    "ch_order = select_order(forex_Chile[[\"LnVolume\",\"CoolPhaseLaNina\",\"WarmPhaseElNino\"]].dropna(), maxlags=12, deterministic=\"ci\",seasons=0)\n",
    "ch_order.summary()\n"
   ]
  },
  {
   "cell_type": "code",
   "execution_count": null,
   "id": "b9030e96",
   "metadata": {},
   "outputs": [],
   "source": [
    "##### Model estimation \n",
    "chi_vecm = forex_Chile[[\"LnVolume\",\"CoolPhaseLaNina\",\"WarmPhaseElNino\"]]\n",
    "chi_model = VECM(chi_vecm , deterministic = \"ci\", seasons = 0, \n",
    "                   k_ar_diff =ch_order.selected_orders[\"aic\"],# =12\n",
    "                   coint_rank = C_c_ranktest.rank)# =1\n",
    "chi_modelfit = chi_model.fit()\n",
    "chi_modelfit.summary()"
   ]
  },
  {
   "cell_type": "markdown",
   "id": "874a9aeb",
   "metadata": {},
   "source": [
    "### Test d'autocorrelation "
   ]
  },
  {
   "cell_type": "raw",
   "id": "534da44e",
   "metadata": {},
   "source": []
  },
  {
   "cell_type": "code",
   "execution_count": null,
   "id": "8c6b818a",
   "metadata": {},
   "outputs": [],
   "source": []
  },
  {
   "cell_type": "code",
   "execution_count": null,
   "id": "7e6418f3",
   "metadata": {},
   "outputs": [],
   "source": []
  },
  {
   "cell_type": "code",
   "execution_count": null,
   "id": "b3395c17",
   "metadata": {},
   "outputs": [],
   "source": []
  },
  {
   "cell_type": "code",
   "execution_count": null,
   "id": "39050189",
   "metadata": {},
   "outputs": [],
   "source": []
  },
  {
   "cell_type": "markdown",
   "id": "86434317",
   "metadata": {},
   "source": [
    "### GRANGER CAUSALITY TEST "
   ]
  },
  {
   "cell_type": "markdown",
   "id": "259a6eb5",
   "metadata": {},
   "source": [
    "#### EUROPE"
   ]
  },
  {
   "cell_type": "code",
   "execution_count": null,
   "id": "55d2d359",
   "metadata": {},
   "outputs": [],
   "source": [
    "from statsmodels.tsa.stattools import grangercausalitytests, adfuller \n",
    "print ('\\LaNina causes Low FOREXVOLUME\\n')\n",
    "print('........................')\n",
    "granger_2 = grangercausalitytests(forex_Europe_var[[\"CoolPhas²eLaNina\",\"LnVOLUME\"]],4)"
   ]
  },
  {
   "cell_type": "code",
   "execution_count": null,
   "id": "63000b0e",
   "metadata": {},
   "outputs": [],
   "source": [
    "from statsmodels.tsa.stattools import grangercausalitytests, adfuller \n",
    "print ('\\LaNina causes Low FOREXVOLUME\\n')\n",
    "print('........................')\n",
    "granger_2 = grangercausalitytests(forex_Europe_var[[\"WarmPhaseElNino\",\"LnVOLUME\"]],4)"
   ]
  },
  {
   "cell_type": "code",
   "execution_count": null,
   "id": "2f2b5329",
   "metadata": {},
   "outputs": [],
   "source": [
    "#### SOUTH AFRICA "
   ]
  },
  {
   "cell_type": "code",
   "execution_count": null,
   "id": "648c411a",
   "metadata": {},
   "outputs": [],
   "source": [
    "print ('\\LaNina causes Low FOREXVOLUME\\n')\n",
    "print('........................')\n",
    "granger_2 = grangercausalitytests(forex_Safrica1[[\"CoolPhaseLaNina\",\"LnVolume\"]],2)"
   ]
  },
  {
   "cell_type": "code",
   "execution_count": null,
   "id": "76b2a6af",
   "metadata": {},
   "outputs": [],
   "source": [
    "from statsmodels.tsa.stattools import grangercausalitytests, adfuller \n",
    "print ('\\LaNina causes Low FOREXVOLUME\\n')\n",
    "print('........................')\n",
    "granger_2 = grangercausalitytests(forex_Safrica1[[\"WarmPhaseElNino\",\"LnVolume\"]],2)"
   ]
  },
  {
   "cell_type": "code",
   "execution_count": null,
   "id": "64846f9a",
   "metadata": {},
   "outputs": [],
   "source": [
    "#### Australia \n",
    "print ('\\LaNina causes Low FOREXVOLUME IN CHILE\\n')\n",
    "print('........................')\n",
    "granger_2 = grangercausalitytests(forex_Chile1[[\"CoolPhaseLaNina\",\"LnVolume\"]],2)"
   ]
  },
  {
   "cell_type": "code",
   "execution_count": null,
   "id": "d41fff8c",
   "metadata": {},
   "outputs": [],
   "source": []
  },
  {
   "cell_type": "markdown",
   "id": "ca980e46",
   "metadata": {},
   "source": [
    "### GARCH MODEL CONSTRUCTION"
   ]
  },
  {
   "cell_type": "markdown",
   "id": "0ae18981",
   "metadata": {},
   "source": [
    "Le modèle GARCH (Generalized Autoregressive Conditional Heteroskedasticity) est défini par l'équation suivante :\n",
    "\n",
    "$$ \\epsilon_t = \\sigma_t \\cdot z_t $$\n",
    "\n",
    "$$ \\sigma_t^2 = \\omega + \\sum_{i=1}^{p} \\alpha_i \\cdot \\epsilon_{t-i}^2 + \\sum_{j=1}^{q} \\beta_j \\cdot \\sigma_{t-j}^2 $$\n",
    "\n",
    "Où :\n",
    "- $ \\epsilon_t $ est le processus d'innovation à l'instant t\n",
    "- $ \\sigma_t^2 $ est la variance conditionnelle à l'instant t\n",
    "- $ \\omega $ est le terme constant (offset)\n",
    "- $ \\alpha_i $ sont les coefficients GARCH (mesures de la volatilité passée) pour les retards i\n",
    "- $ \\epsilon_{t-i}^2 $ sont les carrés des erreurs résiduelles aux instants t-i\n",
    "- $ \\beta_j $ sont les coefficients ARCH (mesures de l'hétéroscédasticité passée) pour les retards j\n",
    "- $ \\sigma_{t-j}^2 $ sont les variances conditionnelles aux instants t-j\n",
    "- $ z_t $ est un bruit blanc gaussien standardisé à l'instant t\n"
   ]
  },
  {
   "cell_type": "markdown",
   "id": "09dcfc98",
   "metadata": {},
   "source": [
    "#### EUROPA"
   ]
  },
  {
   "cell_type": "code",
   "execution_count": null,
   "id": "ea4bf62d",
   "metadata": {},
   "outputs": [],
   "source": [
    "# Packages \n",
    "import statsmodels.graphics.tsaplots as sgt \n",
    "from statsmodels.tsa.arima_model import ARIMA\n",
    "from scipy.stats.distributions import chi2\n",
    "from arch import arch_model\n",
    "from arch.univariate import GARCH"
   ]
  },
  {
   "cell_type": "code",
   "execution_count": null,
   "id": "e6d27651",
   "metadata": {},
   "outputs": [],
   "source": [
    "from datetime import datetime, timedelta\n",
    "import matplotlib.pyplot as plt\n",
    "from statsmodels.graphics.tsaplots import plot_acf, plot_pacf\n",
    "import pandas as pd\n",
    "import arch\n",
    "import yfinance as yf\n",
    "from statsmodels.tsa.stattools import adfuller\n",
    "import itertools\n",
    "from scipy.stats import shapiro, jarque_bera\n",
    "from statsmodels.stats.diagnostic import het_arch\n",
    "from statsmodels.stats.diagnostic import acorr_ljungbox\n",
    "import numpy as np"
   ]
  },
  {
   "cell_type": "code",
   "execution_count": null,
   "id": "584b9d7e",
   "metadata": {},
   "outputs": [],
   "source": [
    "data['EUROPA_r'] = data['EUROPA'].pct_change()\n",
    "data['EUROPA_rr'] = data['EUROPA_r'] ** 2\n",
    "data=data.dropna()"
   ]
  },
  {
   "cell_type": "code",
   "execution_count": null,
   "id": "9d4d26fb",
   "metadata": {},
   "outputs": [],
   "source": [
    "data['EUROPA_r'] = data['EUROPA'].pct_change()\n",
    "data['EUROPA_rr'] = data['EUROPA_r'] ** 2\n",
    "data=data.dropna()\n",
    "# Définir le rang de p et q\n",
    "p_range = range(1, 4)  \n",
    "q_range = range(0, 4)  \n",
    "\n",
    "# Initialiser le DataFrame pour stocker les résultats\n",
    "results_df = pd.DataFrame(columns=['p', 'q', 'aic'])\n",
    "\n",
    "# Boucle sur toutes les combinaisons possibles de p et q\n",
    "for p in p_range:\n",
    "    for q in q_range:\n",
    "            # Spécifier le modèle GARCH\n",
    "            model = arch_model(data['EUROPA_r'], vol='Garch', p=p, q=q)\n",
    "            \n",
    "            # Adapter le modèle\n",
    "            results = model.fit(disp='off')  # turn off convergence messages\n",
    "\n",
    "            # Obtenir l'AIC\n",
    "            aic = results.aic\n",
    "\n",
    "            # Ajouter les résultats dans le DataFrame\n",
    "            results_df = results_df.append({'p': p, 'q': q, 'aic': aic}, ignore_index=True)\n",
    "            results_df"
   ]
  },
  {
   "cell_type": "code",
   "execution_count": null,
   "id": "35aa6a60",
   "metadata": {},
   "outputs": [],
   "source": [
    " results_df "
   ]
  },
  {
   "cell_type": "code",
   "execution_count": null,
   "id": "0b4afd17",
   "metadata": {},
   "outputs": [],
   "source": [
    "#The simply garch model EUROPA \n",
    "eugarch_11 = arch_model(data['EUROPA_r'][1:], mean = \"Constant\", vol =\"GARCH\", p = 1, q =1)\n",
    "eugarch_11 = eugarch_11.fit(update_freq = 5)\n",
    "eugarch_11.summary()"
   ]
  },
  {
   "cell_type": "code",
   "execution_count": null,
   "id": "78d1f956",
   "metadata": {},
   "outputs": [],
   "source": [
    "# Plot des résidus\n",
    "plt.figure(figsize=(10,4))\n",
    "plt.plot(results.resid)\n",
    "plt.title(\"Résidus du modèle GARCH\")\n",
    "\n",
    "# ACF et PACF\n",
    "plot_acf(results.resid, lags=20)\n",
    "plot_pacf(results.resid, lags=20)\n",
    "\n",
    "# Test de Shapiro-Wilk pour la normalité\n",
    "stat, p = shapiro(results.resid)\n",
    "print(f'Statistique de Shapiro-Wilk: {stat}, p-value: {p}')"
   ]
  },
  {
   "cell_type": "code",
   "execution_count": null,
   "id": "7135a4b9",
   "metadata": {},
   "outputs": [],
   "source": [
    "# Analyse du carré des résidus\n",
    "\n",
    "# ACF et PACF des carrés des résidus\n",
    "plot_acf(results.resid**2, lags=20)\n",
    "plot_pacf(results.resid**2, lags=20)\n",
    "\n"
   ]
  },
  {
   "cell_type": "code",
   "execution_count": null,
   "id": "f6166251",
   "metadata": {},
   "outputs": [],
   "source": [
    "# Ljung-Box test sur résidus\n",
    "lb_test_resid = acorr_ljungbox(results.resid, lags=[i for i in range(1, 13)], return_df=True)\n",
    "print(\"Ljung-Box Test sur résidus:\\n\", lb_test_resid)\n",
    "\n",
    "# Ljung-Box test sur carrés des résidus\n",
    "lb_test_resid_sq = acorr_ljungbox(results.resid**2, lags=[i for i in range(1, 13)], return_df=True)\n",
    "print(\"Ljung-Box Test sur carrés des résidus:\\n\", lb_test_resid_sq)"
   ]
  },
  {
   "cell_type": "markdown",
   "id": "716e2105",
   "metadata": {},
   "source": [
    "##### Test de Lagrange Multiplier (LM) pour l'effet ARCH\n",
    "\n",
    "The Lagrange Multiplier (LM) test for the ARCH effect is a statistical tool that checks for the presence of ARCH (AutoRegressive Conditional Heteroskedasticity) effects in a time series.\n",
    "\n",
    "\n",
    "\n",
    "The ARCH effect occurs when the variance of an error is a function of its past errors. This property is common in financial time series, where large variations in returns are often followed by large variations and vice versa.\n",
    "\n",
    "The LM test verifies the null hypothesis that errors are homoscedastic (constant variance). If the p-value of the test is below a predefined threshold (usually 0.05), the null hypothesis is rejected, indicating the presence of ARCH effects.\n"
   ]
  },
  {
   "cell_type": "code",
   "execution_count": null,
   "id": "af92d3bd",
   "metadata": {},
   "outputs": [],
   "source": [
    "\n",
    "# LM test pour les effets ARCH\n",
    "lm_test = het_arch(results.resid)\n",
    "print('LM Test Statistique: %.3f, p-value: %.3f' % (lm_test[0], lm_test[1]))"
   ]
  },
  {
   "cell_type": "markdown",
   "id": "ab092021",
   "metadata": {},
   "source": [
    "#### South Africa"
   ]
  },
  {
   "cell_type": "code",
   "execution_count": null,
   "id": "b0f6f108",
   "metadata": {},
   "outputs": [],
   "source": [
    "data['SOUTH_AFRICA_r'] = data['SOUTH_AFRICA'].pct_change()\n",
    "data['SOUTH_AFRICA_rr'] = data['SOUTH_AFRICA_r'] ** 2\n",
    "data=data.dropna()\n",
    "# Définir le rang de p et q\n",
    "p_range = range(1, 4)  \n",
    "q_range = range(0, 4)  \n",
    "\n",
    "# Initialiser le DataFrame pour stocker les résultats\n",
    "results_df = pd.DataFrame(columns=['p', 'q', 'aic'])\n",
    "\n",
    "# Boucle sur toutes les combinaisons possibles de p et q\n",
    "for p in p_range:\n",
    "    for q in q_range:\n",
    "            # Spécifier le modèle GARCH\n",
    "            model = arch_model(data['SOUTH_AFRICA_rr'], vol='Garch', p=p, q=q)\n",
    "            \n",
    "            # Adapter le modèle\n",
    "            results = model.fit(disp='off')  # turn off convergence messages\n",
    "\n",
    "            # Obtenir l'AIC\n",
    "            aic = results.aic\n",
    "\n",
    "            # Ajouter les résultats dans le DataFrame\n",
    "            results_df = results_df.append({'p': p, 'q': q, 'aic': aic}, ignore_index=True)\n",
    "            results_df"
   ]
  },
  {
   "cell_type": "code",
   "execution_count": null,
   "id": "62da82ad",
   "metadata": {},
   "outputs": [],
   "source": [
    "#The simply garch model SOUTH AFRICA \n",
    "sagarch_11 = arch_model(data['SOUTH_AFRICA_rr'][1:], mean = \"Constant\", vol =\"GARCH\", p = 1, q =1)\n",
    "sagarch_11 = sagarch_11.fit(update_freq = 5)\n",
    "sagarch_11.summary()"
   ]
  },
  {
   "cell_type": "code",
   "execution_count": null,
   "id": "d26633d6",
   "metadata": {},
   "outputs": [],
   "source": [
    "# Ljung-Box test sur résidus\n",
    "lb_test_resid = acorr_ljungbox(results.resid, lags=[i for i in range(1, 13)], return_df=True)\n",
    "print(\"Ljung-Box Test sur résidus:\\n\", lb_test_resid)\n",
    "\n",
    "# Ljung-Box test sur carrés des résidus\n",
    "lb_test_resid_sq = acorr_ljungbox(results.resid**2, lags=[i for i in range(1, 13)], return_df=True)\n",
    "print(\"Ljung-Box Test sur carrés des résidus:\\n\", lb_test_resid_sq)\n"
   ]
  },
  {
   "cell_type": "code",
   "execution_count": null,
   "id": "ea67722f",
   "metadata": {},
   "outputs": [],
   "source": [
    "# LM test pour les effets ARCH\n",
    "lm_test = het_arch(results.resid)\n",
    "print('LM Test Statistique: %.3f, p-value: %.3f' % (lm_test[0], lm_test[1]))"
   ]
  },
  {
   "cell_type": "markdown",
   "id": "efdc0c91",
   "metadata": {},
   "source": [
    "#### AUSTRALIA"
   ]
  },
  {
   "cell_type": "code",
   "execution_count": null,
   "id": "0c38af56",
   "metadata": {},
   "outputs": [],
   "source": [
    "data['AUSTRALIA_r'] = data['AUSTRALIA'].pct_change()\n",
    "data=data.dropna()\n",
    "# Définir le rang de p et q\n",
    "p_range = range(1, 4)  \n",
    "q_range = range(0, 4)  \n",
    "\n",
    "# Initialiser le DataFrame pour stocker les résultats\n",
    "results_df = pd.DataFrame(columns=['p', 'q', 'aic'])\n",
    "\n",
    "# Boucle sur toutes les combinaisons possibles de p et q\n",
    "for p in p_range:\n",
    "    for q in q_range:\n",
    "            # Spécifier le modèle GARCH\n",
    "            model = arch_model(data['AUSTRALIA_r'], vol='Garch', p=p, q=q)\n",
    "            \n",
    "            # Adapter le modèle\n",
    "            results = model.fit(disp='off')  # turn off convergence messages\n",
    "\n",
    "            # Obtenir l'AIC\n",
    "            aic = results.aic\n",
    "\n",
    "            # Ajouter les résultats dans le DataFrame\n",
    "            results_df = results_df.append({'p': p, 'q': q, 'aic': aic}, ignore_index=True)\n",
    "            results_df"
   ]
  },
  {
   "cell_type": "code",
   "execution_count": null,
   "id": "823604c2",
   "metadata": {},
   "outputs": [],
   "source": [
    "#The simply garch model AUSTRALIA \n",
    "augarch_11 = arch_model(data['AUSTRALIA_r'][1:], mean = \"Constant\", vol =\"GARCH\", p = 1, q =1)\n",
    "augarch_11 = augarch_11.fit(update_freq = 5)\n",
    "augarch_11.summary()"
   ]
  },
  {
   "cell_type": "code",
   "execution_count": null,
   "id": "dfde4786",
   "metadata": {},
   "outputs": [],
   "source": [
    "# Ljung-Box test sur résidus\n",
    "lb_test_resid = acorr_ljungbox(results.resid, lags=[i for i in range(1, 13)], return_df=True)\n",
    "print(\"Ljung-Box Test sur résidus:\\n\", lb_test_resid)\n",
    "\n",
    "# Ljung-Box test sur carrés des résidus\n",
    "lb_test_resid_sq = acorr_ljungbox(results.resid**2, lags=[i for i in range(1, 13)], return_df=True)\n",
    "print(\"Ljung-Box Test sur carrés des résidus:\\n\", lb_test_resid_sq)\n"
   ]
  },
  {
   "cell_type": "code",
   "execution_count": null,
   "id": "392cf08c",
   "metadata": {},
   "outputs": [],
   "source": [
    "# LM test pour les effets ARCH\n",
    "lm_test = het_arch(results.resid)\n",
    "print('LM Test Statistique: %.3f, p-value: %.3f' % (lm_test[0], lm_test[1]))"
   ]
  },
  {
   "cell_type": "markdown",
   "id": "e889d3ae",
   "metadata": {},
   "source": [
    "#### CHILE "
   ]
  },
  {
   "cell_type": "code",
   "execution_count": null,
   "id": "7e2ee4ea",
   "metadata": {},
   "outputs": [],
   "source": [
    "data['CHILE_r'] = data['CHILE'].pct_change()\n",
    "data=data.dropna()\n",
    "# Définir le rang de p et q\n",
    "p_range = range(1, 4)  \n",
    "q_range = range(0, 4)  \n",
    "\n",
    "# Initialiser le DataFrame pour stocker les résultats\n",
    "results_df = pd.DataFrame(columns=['p', 'q', 'aic'])\n",
    "\n",
    "# Boucle sur toutes les combinaisons possibles de p et q\n",
    "for p in p_range:\n",
    "    for q in q_range:\n",
    "            # Spécifier le modèle GARCH\n",
    "            model = arch_model(data['CHILE_r'], vol='Garch', p=p, q=q)\n",
    "            \n",
    "            # Adapter le modèle\n",
    "            results = model.fit(disp='off')  # turn off convergence messages\n",
    "\n",
    "            # Obtenir l'AIC\n",
    "            aic = results.aic\n",
    "\n",
    "            # Ajouter les résultats dans le DataFrame\n",
    "            results_df = results_df.append({'p': p, 'q': q, 'aic': aic}, ignore_index=True)\n",
    "            results_df"
   ]
  },
  {
   "cell_type": "code",
   "execution_count": null,
   "id": "8d56934a",
   "metadata": {},
   "outputs": [],
   "source": [
    "#The simply garch model CHILE\n",
    "chgarch_11 = arch_model(data['CHILE_r'][1:], mean = \"Constant\", vol =\"GARCH\", p = 1, q =1)\n",
    "chgarch_11 = chgarch_11.fit(update_freq = 5)\n",
    "chgarch_11.summary()"
   ]
  },
  {
   "cell_type": "code",
   "execution_count": null,
   "id": "7f583ac7",
   "metadata": {},
   "outputs": [],
   "source": [
    "# Ljung-Box test sur résidus\n",
    "lb_test_resid = acorr_ljungbox(results.resid, lags=[i for i in range(1, 13)], return_df=True)\n",
    "print(\"Ljung-Box Test sur résidus:\\n\", lb_test_resid)\n",
    "\n",
    "# Ljung-Box test sur carrés des résidus\n",
    "lb_test_resid_sq = acorr_ljungbox(results.resid**2, lags=[i for i in range(1, 13)], return_df=True)\n",
    "print(\"Ljung-Box Test sur carrés des résidus:\\n\", lb_test_resid_sq)"
   ]
  },
  {
   "cell_type": "code",
   "execution_count": null,
   "id": "680bba5b",
   "metadata": {},
   "outputs": [],
   "source": [
    "# LM test pour les effets ARCH\n",
    "lm_test = het_arch(results.resid)\n",
    "print('LM Test Statistique: %.3f, p-value: %.3f' % (lm_test[0], lm_test[1]))"
   ]
  },
  {
   "cell_type": "markdown",
   "id": "695e2b99",
   "metadata": {},
   "source": [
    "### Partie 7 : METHODES D'ANALYSE"
   ]
  },
  {
   "cell_type": "markdown",
   "id": "2138ddf7",
   "metadata": {},
   "source": [
    "### 1 - Binning method"
   ]
  },
  {
   "cell_type": "code",
   "execution_count": null,
   "id": "4aebd3a1",
   "metadata": {},
   "outputs": [],
   "source": [
    "# classes années \n",
    "def yeargroup(x):\n",
    "    if x < 2005 : \n",
    "        return '2001_2004'\n",
    "    elif x< 2009 :\n",
    "        return '2005_2008'\n",
    "    else  : \n",
    "        return '2009-2012'\n",
    "   \n",
    "    \n",
    "# catégories de classes d'années \n",
    "genius['YEAR CATEGORY'] = genius['Year'].apply(yeargroup)\n",
    "genius.head()"
   ]
  },
  {
   "cell_type": "code",
   "execution_count": null,
   "id": "4312424d",
   "metadata": {},
   "outputs": [],
   "source": [
    "#tri croisé entre Phase et year category \n",
    "pd.crosstab(genius[\"YEAR CATEGORY\"],genius[\"Phase\"])"
   ]
  },
  {
   "cell_type": "code",
   "execution_count": null,
   "id": "b5022016",
   "metadata": {},
   "outputs": [],
   "source": [
    "# Identifier le nombre de jours où la temp excède les 86°F par moi\n",
    "pd.crosstab(genius.Phase,  genius.Monthname)"
   ]
  },
  {
   "cell_type": "code",
   "execution_count": null,
   "id": "118d63ea",
   "metadata": {},
   "outputs": [],
   "source": [
    "#panel b codes 1\n",
    "STAT1  = genius.groupby([\"YEAR CATEGORY\",\"Phase\"] ).agg({\"VOLUME\" :'count'})\n",
    "STAT2  = genius.groupby([\"YEAR CATEGORY\",\"Phase\"] ).agg({\"VOLUME\" : np.std})\n",
    "STAT3  = genius.groupby([\"YEAR CATEGORY\",\"Phase\"] ).agg({\"VOLUME\" : np.mean})\n",
    "STAT4  = genius.groupby([\"YEAR CATEGORY\",\"Phase\"] ).agg({\"LnVOLUME\":np.mean})\n",
    "\n",
    "# Différentes fusions des stats\n",
    "livrable_pivots=pd.merge(STAT1,STAT2,on=[\"YEAR CATEGORY\",\"Phase\"],how=\"left\")\n",
    "livrable_pivots=pd.merge(livrable_pivots,STAT3,on=[\"YEAR CATEGORY\",\"Phase\"],how=\"left\")\n",
    "livrable_pivots=pd.merge(livrable_pivots,STAT4,on=[\"YEAR CATEGORY\",\"Phase\"],how=\"left\")\n",
    "\n",
    "def livrableC (livrable_pivots,var1, var2,var3,var4):\n",
    "    livrable_pivots = livrable_pivots.rename(columns={var1 : \"N\",var2 : \"s.d_VOLUME\",var3 : \"Mean_VOLUME\",var4 : \"Mean_LnVOLUME\"},inplace=True)\n",
    "livrableC(livrable_pivots,'VOLUME_x','VOLUME_y','VOLUME','LnVOLUME')\n",
    "livrable_pivots"
   ]
  },
  {
   "cell_type": "code",
   "execution_count": null,
   "id": "ceb221eb",
   "metadata": {},
   "outputs": [],
   "source": []
  },
  {
   "cell_type": "code",
   "execution_count": null,
   "id": "612992b5",
   "metadata": {},
   "outputs": [],
   "source": []
  },
  {
   "cell_type": "code",
   "execution_count": null,
   "id": "72b88632",
   "metadata": {},
   "outputs": [],
   "source": []
  }
 ],
 "metadata": {
  "kernelspec": {
   "display_name": "Python 3 (ipykernel)",
   "language": "python",
   "name": "python3"
  },
  "language_info": {
   "codemirror_mode": {
    "name": "ipython",
    "version": 3
   },
   "file_extension": ".py",
   "mimetype": "text/x-python",
   "name": "python",
   "nbconvert_exporter": "python",
   "pygments_lexer": "ipython3",
   "version": "3.9.7"
  }
 },
 "nbformat": 4,
 "nbformat_minor": 5
}
